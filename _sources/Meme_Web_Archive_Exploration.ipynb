{
  "cells": [
    {
      "cell_type": "markdown",
      "metadata": {
        "id": "7MDVEzH37J1m"
      },
      "source": [
        "![dsl_logo.png](https://raw.githubusercontent.com/BrockDSL/Analyzing_Web_Archives/main/dsl_logo.png)\n",
        "\n",
        "# Analyzing Web Archives\n",
        "\n",
        "Welcome to the Digital Scholarship Lab Level Analyzing Web Archives workshop. The following notebook provides an investigation into the [Meme Generator dataset](https://www.loc.gov/item/2018655320/)\n",
        "\n",
        "\n",
        "## How this notebook works\n",
        "\n",
        "This webpage is a Google Colab notebook and is comprised of different *cells*. Some are code cells that run Python snippets. To works through these cells simply click on the triangle _run_ button in each cell. Click in the cell below to see the play button, then click on it."
      ]
    },
    {
      "cell_type": "code",
      "execution_count": 3,
      "metadata": {
        "colab": {
          "base_uri": "https://localhost:8080/"
        },
        "id": "zUSj3buK7GgK",
        "outputId": "43d51a79-f8ea-4dec-c861-e68f36c28bac"
      },
      "outputs": [
        {
          "name": "stdout",
          "output_type": "stream",
          "text": [
            "Defaulting to user installation because normal site-packages is not writeable\n",
            "Requirement already satisfied: langdetect in /Users/calmurgu/Library/Python/3.8/lib/python/site-packages (1.0.9)\n",
            "Requirement already satisfied: six in /Library/Developer/CommandLineTools/Library/Frameworks/Python3.framework/Versions/3.8/lib/python3.8/site-packages (from langdetect) (1.15.0)\n",
            "Defaulting to user installation because normal site-packages is not writeable\n",
            "Requirement already satisfied: pandas in /Users/calmurgu/Library/Python/3.8/lib/python/site-packages (1.3.5)\n",
            "Requirement already satisfied: numpy>=1.20.0 in /Users/calmurgu/Library/Python/3.8/lib/python/site-packages (from pandas) (1.22.1)\n",
            "Requirement already satisfied: pytz>=2017.3 in /Users/calmurgu/Library/Python/3.8/lib/python/site-packages (from pandas) (2021.3)\n",
            "Requirement already satisfied: python-dateutil>=2.7.3 in /Users/calmurgu/Library/Python/3.8/lib/python/site-packages (from pandas) (2.8.2)\n",
            "Requirement already satisfied: six>=1.5 in /Library/Developer/CommandLineTools/Library/Frameworks/Python3.framework/Versions/3.8/lib/python3.8/site-packages (from python-dateutil>=2.7.3->pandas) (1.15.0)\n",
            "Defaulting to user installation because normal site-packages is not writeable\n",
            "Requirement already satisfied: matplotlib in /Users/calmurgu/Library/Python/3.8/lib/python/site-packages (3.5.1)\n",
            "Requirement already satisfied: cycler>=0.10 in /Users/calmurgu/Library/Python/3.8/lib/python/site-packages (from matplotlib) (0.11.0)\n",
            "Requirement already satisfied: fonttools>=4.22.0 in /Users/calmurgu/Library/Python/3.8/lib/python/site-packages (from matplotlib) (4.28.5)\n",
            "Requirement already satisfied: python-dateutil>=2.7 in /Users/calmurgu/Library/Python/3.8/lib/python/site-packages (from matplotlib) (2.8.2)\n",
            "Requirement already satisfied: pillow>=6.2.0 in /Users/calmurgu/Library/Python/3.8/lib/python/site-packages (from matplotlib) (9.0.0)\n",
            "Requirement already satisfied: pyparsing>=2.2.1 in /Users/calmurgu/Library/Python/3.8/lib/python/site-packages (from matplotlib) (3.0.6)\n",
            "Requirement already satisfied: packaging>=20.0 in /Users/calmurgu/Library/Python/3.8/lib/python/site-packages (from matplotlib) (21.3)\n",
            "Requirement already satisfied: numpy>=1.17 in /Users/calmurgu/Library/Python/3.8/lib/python/site-packages (from matplotlib) (1.22.1)\n",
            "Requirement already satisfied: kiwisolver>=1.0.1 in /Users/calmurgu/Library/Python/3.8/lib/python/site-packages (from matplotlib) (1.3.2)\n",
            "Requirement already satisfied: six>=1.5 in /Library/Developer/CommandLineTools/Library/Frameworks/Python3.framework/Versions/3.8/lib/python3.8/site-packages (from python-dateutil>=2.7->matplotlib) (1.15.0)\n",
            "\n",
            "Libraries loaded, and ready to run!\n"
          ]
        }
      ],
      "source": [
        "!pip3 install langdetect\n",
        "!pip3 install pandas\n",
        "!pip3 install matplotlib\n",
        "\n",
        "import pandas as pd\n",
        "import matplotlib.pyplot as plt\n",
        "from IPython.display import Image,display,IFrame\n",
        "from ipywidgets import widgets,interact,interact_manual\n",
        "from langdetect import detect\n",
        "import matplotlib.pyplot as plt\n",
        "\n",
        "global rando\n",
        "\n",
        "%matplotlib inline\n",
        "print(\"\\nLibraries loaded, and ready to run!\")"
      ]
    },
    {
      "cell_type": "markdown",
      "metadata": {
        "id": "KSZ93LCjA8NB"
      },
      "source": [
        "# Loading our data set\n",
        "\n",
        "The information from this archive is saved in a _CSV_ file. Or put in otherwords, something like a spreadsheet. In the next cell we will load this file into something call a dataframe and we'll look at the first 5 entries by looking at the **head**."
      ]
    },
    {
      "cell_type": "code",
      "execution_count": 4,
      "metadata": {
        "colab": {
          "base_uri": "https://localhost:8080/",
          "height": 407
        },
        "id": "pD7R7tpLBXok",
        "outputId": "3a310ac8-8e3f-4dd6-a3f1-7dc931b35ed7"
      },
      "outputs": [
        {
          "data": {
            "text/html": [
              "<div>\n",
              "<style scoped>\n",
              "    .dataframe tbody tr th:only-of-type {\n",
              "        vertical-align: middle;\n",
              "    }\n",
              "\n",
              "    .dataframe tbody tr th {\n",
              "        vertical-align: top;\n",
              "    }\n",
              "\n",
              "    .dataframe thead th {\n",
              "        text-align: right;\n",
              "    }\n",
              "</style>\n",
              "<table border=\"1\" class=\"dataframe\">\n",
              "  <thead>\n",
              "    <tr style=\"text-align: right;\">\n",
              "      <th></th>\n",
              "      <th>Meme ID</th>\n",
              "      <th>Archived URL</th>\n",
              "      <th>Base Meme Name</th>\n",
              "      <th>Meme Page URL</th>\n",
              "      <th>MD5 Hash</th>\n",
              "      <th>File Size (In Bytes)</th>\n",
              "      <th>Alternate Text</th>\n",
              "      <th>Display Name</th>\n",
              "      <th>Upper Text</th>\n",
              "      <th>Lower Text</th>\n",
              "    </tr>\n",
              "  </thead>\n",
              "  <tbody>\n",
              "    <tr>\n",
              "      <th>0</th>\n",
              "      <td>10509464</td>\n",
              "      <td>http://webarchive.loc.gov/all/0/http://cdn.mem...</td>\n",
              "      <td>Spiderman Approves</td>\n",
              "      <td>http://memegenerator.net/instance/10509464</td>\n",
              "      <td>91eee1453f2b66b4b0d662476bf630d8</td>\n",
              "      <td>87868</td>\n",
              "      <td>seems legit</td>\n",
              "      <td>Spiderman Approves</td>\n",
              "      <td>seems</td>\n",
              "      <td>legit</td>\n",
              "    </tr>\n",
              "    <tr>\n",
              "      <th>1</th>\n",
              "      <td>12285257</td>\n",
              "      <td>http://webarchive.loc.gov/all/0/http://cdn.mem...</td>\n",
              "      <td>Alright Then Business Kid</td>\n",
              "      <td>http://memegenerator.net/instance/12285257</td>\n",
              "      <td>96a3aa60c0f3a5ffb027e8977f23b2cc</td>\n",
              "      <td>110242</td>\n",
              "      <td>Fret not I stayed at a Holiday Inn Express las...</td>\n",
              "      <td>Alright Then Business Kid</td>\n",
              "      <td>Fret not</td>\n",
              "      <td>I stayed at a Holiday Inn Express last night</td>\n",
              "    </tr>\n",
              "    <tr>\n",
              "      <th>2</th>\n",
              "      <td>20612245</td>\n",
              "      <td>http://webarchive.loc.gov/all/0/https://cdn.me...</td>\n",
              "      <td>Archer</td>\n",
              "      <td>http://memegenerator.net/instance/20612245</td>\n",
              "      <td>1b84704851704a2dc366768a2210d659</td>\n",
              "      <td>125963</td>\n",
              "      <td>hello airplanes? yeah, this is blimps. Yeah, y...</td>\n",
              "      <td>Archer</td>\n",
              "      <td>hello airplanes? yeah, this is blimps.</td>\n",
              "      <td>Yeah, you win.</td>\n",
              "    </tr>\n",
              "    <tr>\n",
              "      <th>3</th>\n",
              "      <td>20614628</td>\n",
              "      <td>http://webarchive.loc.gov/all/0/http://cdn.mem...</td>\n",
              "      <td>Futurama Fry</td>\n",
              "      <td>http://memegenerator.net/instance/20614628</td>\n",
              "      <td>448f5d4a15f5c90ce4d64c75013c8e9a</td>\n",
              "      <td>161623</td>\n",
              "      <td>LEGS IN COVER. TOO HOT. LEGS OUT OF COVER. TOO...</td>\n",
              "      <td>Futurama Fry</td>\n",
              "      <td>LEGS IN COVER. TOO HOT. LEGS OUT OF COVER. TOO...</td>\n",
              "      <td>BUt Scared monster under the bed will eat me</td>\n",
              "    </tr>\n",
              "    <tr>\n",
              "      <th>4</th>\n",
              "      <td>24194267</td>\n",
              "      <td>http://webarchive.loc.gov/all/0/https://cdn.me...</td>\n",
              "      <td>One Does Not Simply</td>\n",
              "      <td>http://memegenerator.net/instance/24194267</td>\n",
              "      <td>37feb180a0e7660e360ed94380b39f60</td>\n",
              "      <td>92866</td>\n",
              "      <td>one does not simply  put toothpaste back in th...</td>\n",
              "      <td>One Does Not Simply</td>\n",
              "      <td>one does not simply</td>\n",
              "      <td>put toothpaste back in the tube</td>\n",
              "    </tr>\n",
              "  </tbody>\n",
              "</table>\n",
              "</div>"
            ],
            "text/plain": [
              "    Meme ID                                       Archived URL  \\\n",
              "0  10509464  http://webarchive.loc.gov/all/0/http://cdn.mem...   \n",
              "1  12285257  http://webarchive.loc.gov/all/0/http://cdn.mem...   \n",
              "2  20612245  http://webarchive.loc.gov/all/0/https://cdn.me...   \n",
              "3  20614628  http://webarchive.loc.gov/all/0/http://cdn.mem...   \n",
              "4  24194267  http://webarchive.loc.gov/all/0/https://cdn.me...   \n",
              "\n",
              "              Base Meme Name                               Meme Page URL  \\\n",
              "0         Spiderman Approves  http://memegenerator.net/instance/10509464   \n",
              "1  Alright Then Business Kid  http://memegenerator.net/instance/12285257   \n",
              "2                     Archer  http://memegenerator.net/instance/20612245   \n",
              "3               Futurama Fry  http://memegenerator.net/instance/20614628   \n",
              "4        One Does Not Simply  http://memegenerator.net/instance/24194267   \n",
              "\n",
              "                           MD5 Hash  File Size (In Bytes)  \\\n",
              "0  91eee1453f2b66b4b0d662476bf630d8                 87868   \n",
              "1  96a3aa60c0f3a5ffb027e8977f23b2cc                110242   \n",
              "2  1b84704851704a2dc366768a2210d659                125963   \n",
              "3  448f5d4a15f5c90ce4d64c75013c8e9a                161623   \n",
              "4  37feb180a0e7660e360ed94380b39f60                 92866   \n",
              "\n",
              "                                      Alternate Text  \\\n",
              "0                                        seems legit   \n",
              "1  Fret not I stayed at a Holiday Inn Express las...   \n",
              "2  hello airplanes? yeah, this is blimps. Yeah, y...   \n",
              "3  LEGS IN COVER. TOO HOT. LEGS OUT OF COVER. TOO...   \n",
              "4  one does not simply  put toothpaste back in th...   \n",
              "\n",
              "                Display Name  \\\n",
              "0         Spiderman Approves   \n",
              "1  Alright Then Business Kid   \n",
              "2                     Archer   \n",
              "3               Futurama Fry   \n",
              "4        One Does Not Simply   \n",
              "\n",
              "                                          Upper Text  \\\n",
              "0                                              seems   \n",
              "1                                           Fret not   \n",
              "2             hello airplanes? yeah, this is blimps.   \n",
              "3  LEGS IN COVER. TOO HOT. LEGS OUT OF COVER. TOO...   \n",
              "4                                one does not simply   \n",
              "\n",
              "                                     Lower Text  \n",
              "0                                         legit  \n",
              "1  I stayed at a Holiday Inn Express last night  \n",
              "2                                Yeah, you win.  \n",
              "3  BUt Scared monster under the bed will eat me  \n",
              "4               put toothpaste back in the tube  "
            ]
          },
          "execution_count": 4,
          "metadata": {},
          "output_type": "execute_result"
        }
      ],
      "source": [
        "meme_data = pd.read_csv(\"https://raw.githubusercontent.com/BrockDSL/Analyzing_Web_Archives/main/memegenerator.csv\", sep=\",\")\n",
        "meme_data[\"Meme ID\"] = meme_data[\"Meme ID\"].astype(str)\n",
        "\n",
        "meme_data.head(5)"
      ]
    },
    {
      "cell_type": "markdown",
      "metadata": {
        "id": "vfrbcPB3G0iS"
      },
      "source": [
        "\n",
        "\n",
        "---\n",
        "\n",
        "\n",
        "# Some General Data Exploration\n"
      ]
    },
    {
      "cell_type": "markdown",
      "metadata": {
        "id": "BJMUZ14FGYdt"
      },
      "source": [
        "### How much data?\n",
        "\n",
        "We can count the **length** of our data frame to see how many entries we have using thing len() function.\n"
      ]
    },
    {
      "cell_type": "markdown",
      "metadata": {
        "id": "3zgObrRj-Rtf"
      },
      "source": []
    },
    {
      "cell_type": "code",
      "execution_count": 5,
      "metadata": {
        "colab": {
          "base_uri": "https://localhost:8080/"
        },
        "id": "3OzCSdRnGjLT",
        "outputId": "e0a93b3d-26d9-4adc-c143-c16a1b5f7ba7"
      },
      "outputs": [
        {
          "name": "stdout",
          "output_type": "stream",
          "text": [
            "We have this many memes to look at:  57687\n"
          ]
        }
      ],
      "source": [
        "\n",
        "print(\"We have this many memes to look at: \",len(meme_data))\n"
      ]
    },
    {
      "cell_type": "markdown",
      "metadata": {
        "id": "g9c1piJ1FPPC"
      },
      "source": [
        "### Random Entry\n",
        "\n",
        "To get a better sense of what is in our dataset let's look at a random entry by using **sample** with a value of 1. Click the below button a few times to get a few different options."
      ]
    },
    {
      "cell_type": "code",
      "execution_count": 6,
      "metadata": {
        "colab": {
          "base_uri": "https://localhost:8080/",
          "height": 469
        },
        "id": "tkAfcLogFYru",
        "outputId": "6cb85ed3-2a20-43a2-85b5-7d81309905a2"
      },
      "outputs": [
        {
          "data": {
            "text/html": [
              "<img src=\"http://webarchive.loc.gov/all/0/https://cdn.meme.am/instances/250x250/11388320.jpg\"/>"
            ],
            "text/plain": [
              "<IPython.core.display.Image object>"
            ]
          },
          "metadata": {},
          "output_type": "display_data"
        },
        {
          "name": "stdout",
          "output_type": "stream",
          "text": [
            "View on Memegenerator: \t http://memegenerator.net/instance/11388320\n",
            "View on Archive: \t\t\t http://webarchive.loc.gov/all/0/https://cdn.meme.am/instances/250x250/11388320.jpg\n"
          ]
        },
        {
          "data": {
            "text/html": [
              "<div>\n",
              "<style scoped>\n",
              "    .dataframe tbody tr th:only-of-type {\n",
              "        vertical-align: middle;\n",
              "    }\n",
              "\n",
              "    .dataframe tbody tr th {\n",
              "        vertical-align: top;\n",
              "    }\n",
              "\n",
              "    .dataframe thead th {\n",
              "        text-align: right;\n",
              "    }\n",
              "</style>\n",
              "<table border=\"1\" class=\"dataframe\">\n",
              "  <thead>\n",
              "    <tr style=\"text-align: right;\">\n",
              "      <th></th>\n",
              "      <th>Meme ID</th>\n",
              "      <th>Archived URL</th>\n",
              "      <th>Base Meme Name</th>\n",
              "      <th>Meme Page URL</th>\n",
              "      <th>MD5 Hash</th>\n",
              "      <th>File Size (In Bytes)</th>\n",
              "      <th>Alternate Text</th>\n",
              "      <th>Display Name</th>\n",
              "      <th>Upper Text</th>\n",
              "      <th>Lower Text</th>\n",
              "    </tr>\n",
              "  </thead>\n",
              "  <tbody>\n",
              "    <tr>\n",
              "      <th>11387</th>\n",
              "      <td>11388320</td>\n",
              "      <td>http://webarchive.loc.gov/all/0/https://cdn.me...</td>\n",
              "      <td>Butthurt Dweller Original</td>\n",
              "      <td>http://memegenerator.net/instance/11388320</td>\n",
              "      <td>5cb002b1b9c5fca5b52c4c0e63ebaaaa</td>\n",
              "      <td>41194</td>\n",
              "      <td>md3 makaroooov  &gt;d</td>\n",
              "      <td>Butthurt Dweller Original</td>\n",
              "      <td>md3</td>\n",
              "      <td>makaroooov  &gt;d</td>\n",
              "    </tr>\n",
              "  </tbody>\n",
              "</table>\n",
              "</div>"
            ],
            "text/plain": [
              "        Meme ID                                       Archived URL  \\\n",
              "11387  11388320  http://webarchive.loc.gov/all/0/https://cdn.me...   \n",
              "\n",
              "                  Base Meme Name                               Meme Page URL  \\\n",
              "11387  Butthurt Dweller Original  http://memegenerator.net/instance/11388320   \n",
              "\n",
              "                               MD5 Hash  File Size (In Bytes)  \\\n",
              "11387  5cb002b1b9c5fca5b52c4c0e63ebaaaa                 41194   \n",
              "\n",
              "           Alternate Text               Display Name Upper Text  \\\n",
              "11387  md3 makaroooov  >d  Butthurt Dweller Original        md3   \n",
              "\n",
              "           Lower Text  \n",
              "11387  makaroooov  >d  "
            ]
          },
          "execution_count": 6,
          "metadata": {},
          "output_type": "execute_result"
        }
      ],
      "source": [
        "rando = meme_data.sample(1)\n",
        "display(Image(url=rando['Archived URL'].values[0], format='jpg'))\n",
        "print(\"View on Memegenerator: \\t\",rando['Meme Page URL'].values[0])\n",
        "print(\"View on Archive: \\t\\t\\t\",rando['Archived URL'].values[0])\n",
        "rando"
      ]
    },
    {
      "cell_type": "markdown",
      "metadata": {
        "id": "OA30QAkAfZ0w"
      },
      "source": [
        "**Q1** Have a look at the data that is associated with a random record. In the chat box suggest some things you might want to explore with this data? Share your reponse in the chat box."
      ]
    },
    {
      "cell_type": "markdown",
      "metadata": {
        "id": "m69mlazEgFo-"
      },
      "source": []
    },
    {
      "cell_type": "markdown",
      "metadata": {
        "id": "D3bk4rXDFBVZ"
      },
      "source": [
        "## Category of memes?\n",
        "\n",
        "As you might know, memes come in many different flavours. Let's see if we can find out how many types there are? We'll do this by **grouping** our _Base Meme Name_ column and **counting** how many entries are in each."
      ]
    },
    {
      "cell_type": "code",
      "execution_count": 7,
      "metadata": {
        "colab": {
          "base_uri": "https://localhost:8080/",
          "height": 455
        },
        "id": "keJ_eKyaE_SR",
        "outputId": "0adc3861-eec4-49ea-91ed-18cb5bc7b9f9"
      },
      "outputs": [
        {
          "data": {
            "text/html": [
              "<div>\n",
              "<style scoped>\n",
              "    .dataframe tbody tr th:only-of-type {\n",
              "        vertical-align: middle;\n",
              "    }\n",
              "\n",
              "    .dataframe tbody tr th {\n",
              "        vertical-align: top;\n",
              "    }\n",
              "\n",
              "    .dataframe thead th {\n",
              "        text-align: right;\n",
              "    }\n",
              "</style>\n",
              "<table border=\"1\" class=\"dataframe\">\n",
              "  <thead>\n",
              "    <tr style=\"text-align: right;\">\n",
              "      <th></th>\n",
              "      <th>Meme ID</th>\n",
              "      <th>Archived URL</th>\n",
              "      <th>Meme Page URL</th>\n",
              "      <th>MD5 Hash</th>\n",
              "      <th>File Size (In Bytes)</th>\n",
              "      <th>Alternate Text</th>\n",
              "      <th>Display Name</th>\n",
              "      <th>Upper Text</th>\n",
              "      <th>Lower Text</th>\n",
              "    </tr>\n",
              "    <tr>\n",
              "      <th>Base Meme Name</th>\n",
              "      <th></th>\n",
              "      <th></th>\n",
              "      <th></th>\n",
              "      <th></th>\n",
              "      <th></th>\n",
              "      <th></th>\n",
              "      <th></th>\n",
              "      <th></th>\n",
              "      <th></th>\n",
              "    </tr>\n",
              "  </thead>\n",
              "  <tbody>\n",
              "    <tr>\n",
              "      <th>-</th>\n",
              "      <td>70</td>\n",
              "      <td>70</td>\n",
              "      <td>70</td>\n",
              "      <td>70</td>\n",
              "      <td>70</td>\n",
              "      <td>70</td>\n",
              "      <td>70</td>\n",
              "      <td>70</td>\n",
              "      <td>70</td>\n",
              "    </tr>\n",
              "    <tr>\n",
              "      <th>10guy</th>\n",
              "      <td>1</td>\n",
              "      <td>1</td>\n",
              "      <td>1</td>\n",
              "      <td>1</td>\n",
              "      <td>1</td>\n",
              "      <td>1</td>\n",
              "      <td>1</td>\n",
              "      <td>1</td>\n",
              "      <td>1</td>\n",
              "    </tr>\n",
              "    <tr>\n",
              "      <th>12 oz mouse</th>\n",
              "      <td>9</td>\n",
              "      <td>9</td>\n",
              "      <td>9</td>\n",
              "      <td>9</td>\n",
              "      <td>9</td>\n",
              "      <td>9</td>\n",
              "      <td>9</td>\n",
              "      <td>9</td>\n",
              "      <td>9</td>\n",
              "    </tr>\n",
              "    <tr>\n",
              "      <th>158</th>\n",
              "      <td>66</td>\n",
              "      <td>66</td>\n",
              "      <td>66</td>\n",
              "      <td>66</td>\n",
              "      <td>66</td>\n",
              "      <td>66</td>\n",
              "      <td>66</td>\n",
              "      <td>66</td>\n",
              "      <td>66</td>\n",
              "    </tr>\n",
              "    <tr>\n",
              "      <th>1889 [10] guy</th>\n",
              "      <td>52</td>\n",
              "      <td>52</td>\n",
              "      <td>52</td>\n",
              "      <td>52</td>\n",
              "      <td>52</td>\n",
              "      <td>52</td>\n",
              "      <td>52</td>\n",
              "      <td>52</td>\n",
              "      <td>52</td>\n",
              "    </tr>\n",
              "    <tr>\n",
              "      <th>...</th>\n",
              "      <td>...</td>\n",
              "      <td>...</td>\n",
              "      <td>...</td>\n",
              "      <td>...</td>\n",
              "      <td>...</td>\n",
              "      <td>...</td>\n",
              "      <td>...</td>\n",
              "      <td>...</td>\n",
              "      <td>...</td>\n",
              "    </tr>\n",
              "    <tr>\n",
              "      <th>ТИПИЧНАЯ DIVA</th>\n",
              "      <td>45</td>\n",
              "      <td>45</td>\n",
              "      <td>45</td>\n",
              "      <td>45</td>\n",
              "      <td>45</td>\n",
              "      <td>45</td>\n",
              "      <td>45</td>\n",
              "      <td>45</td>\n",
              "      <td>45</td>\n",
              "    </tr>\n",
              "    <tr>\n",
              "      <th>ТИПИЧНЫЙ JONGHYUN</th>\n",
              "      <td>1</td>\n",
              "      <td>1</td>\n",
              "      <td>1</td>\n",
              "      <td>1</td>\n",
              "      <td>1</td>\n",
              "      <td>1</td>\n",
              "      <td>1</td>\n",
              "      <td>1</td>\n",
              "      <td>1</td>\n",
              "    </tr>\n",
              "    <tr>\n",
              "      <th>ТИПИЧНЫЙ ONEW</th>\n",
              "      <td>1</td>\n",
              "      <td>1</td>\n",
              "      <td>1</td>\n",
              "      <td>1</td>\n",
              "      <td>1</td>\n",
              "      <td>1</td>\n",
              "      <td>1</td>\n",
              "      <td>1</td>\n",
              "      <td>1</td>\n",
              "    </tr>\n",
              "    <tr>\n",
              "      <th>ТИПИЧНЫЙ TAEMIN</th>\n",
              "      <td>1</td>\n",
              "      <td>1</td>\n",
              "      <td>1</td>\n",
              "      <td>1</td>\n",
              "      <td>1</td>\n",
              "      <td>1</td>\n",
              "      <td>1</td>\n",
              "      <td>1</td>\n",
              "      <td>1</td>\n",
              "    </tr>\n",
              "    <tr>\n",
              "      <th>Типичная Эля Чавес/Typical Elya Chavez</th>\n",
              "      <td>1</td>\n",
              "      <td>1</td>\n",
              "      <td>1</td>\n",
              "      <td>1</td>\n",
              "      <td>1</td>\n",
              "      <td>1</td>\n",
              "      <td>1</td>\n",
              "      <td>1</td>\n",
              "      <td>1</td>\n",
              "    </tr>\n",
              "  </tbody>\n",
              "</table>\n",
              "<p>1651 rows × 9 columns</p>\n",
              "</div>"
            ],
            "text/plain": [
              "                                        Meme ID  Archived URL  Meme Page URL  \\\n",
              "Base Meme Name                                                                 \n",
              "-                                            70            70             70   \n",
              "10guy                                         1             1              1   \n",
              "12 oz mouse                                   9             9              9   \n",
              "158                                          66            66             66   \n",
              "1889 [10] guy                                52            52             52   \n",
              "...                                         ...           ...            ...   \n",
              "ТИПИЧНАЯ DIVA                                45            45             45   \n",
              "ТИПИЧНЫЙ JONGHYUN                             1             1              1   \n",
              "ТИПИЧНЫЙ ONEW                                 1             1              1   \n",
              "ТИПИЧНЫЙ TAEMIN                               1             1              1   \n",
              "Типичная Эля Чавес/Typical Elya Chavez        1             1              1   \n",
              "\n",
              "                                        MD5 Hash  File Size (In Bytes)  \\\n",
              "Base Meme Name                                                           \n",
              "-                                             70                    70   \n",
              "10guy                                          1                     1   \n",
              "12 oz mouse                                    9                     9   \n",
              "158                                           66                    66   \n",
              "1889 [10] guy                                 52                    52   \n",
              "...                                          ...                   ...   \n",
              "ТИПИЧНАЯ DIVA                                 45                    45   \n",
              "ТИПИЧНЫЙ JONGHYUN                              1                     1   \n",
              "ТИПИЧНЫЙ ONEW                                  1                     1   \n",
              "ТИПИЧНЫЙ TAEMIN                                1                     1   \n",
              "Типичная Эля Чавес/Typical Elya Chavez         1                     1   \n",
              "\n",
              "                                        Alternate Text  Display Name  \\\n",
              "Base Meme Name                                                         \n",
              "-                                                   70            70   \n",
              "10guy                                                1             1   \n",
              "12 oz mouse                                          9             9   \n",
              "158                                                 66            66   \n",
              "1889 [10] guy                                       52            52   \n",
              "...                                                ...           ...   \n",
              "ТИПИЧНАЯ DIVA                                       45            45   \n",
              "ТИПИЧНЫЙ JONGHYUN                                    1             1   \n",
              "ТИПИЧНЫЙ ONEW                                        1             1   \n",
              "ТИПИЧНЫЙ TAEMIN                                      1             1   \n",
              "Типичная Эля Чавес/Typical Elya Chavez               1             1   \n",
              "\n",
              "                                        Upper Text  Lower Text  \n",
              "Base Meme Name                                                  \n",
              "-                                               70          70  \n",
              "10guy                                            1           1  \n",
              "12 oz mouse                                      9           9  \n",
              "158                                             66          66  \n",
              "1889 [10] guy                                   52          52  \n",
              "...                                            ...         ...  \n",
              "ТИПИЧНАЯ DIVA                                   45          45  \n",
              "ТИПИЧНЫЙ JONGHYUN                                1           1  \n",
              "ТИПИЧНЫЙ ONEW                                    1           1  \n",
              "ТИПИЧНЫЙ TAEMIN                                  1           1  \n",
              "Типичная Эля Чавес/Typical Elya Chavez           1           1  \n",
              "\n",
              "[1651 rows x 9 columns]"
            ]
          },
          "execution_count": 7,
          "metadata": {},
          "output_type": "execute_result"
        }
      ],
      "source": [
        "meme_data.groupby([\"Base Meme Name\"]).count()"
      ]
    },
    {
      "cell_type": "markdown",
      "metadata": {
        "id": "Jeh2fR1eHDlc"
      },
      "source": [
        "**Q2** Based on the above summary how many different type so memes we have? Share your response in the chat box."
      ]
    },
    {
      "cell_type": "markdown",
      "metadata": {
        "id": "roCbVFJpgKjo"
      },
      "source": []
    },
    {
      "cell_type": "markdown",
      "metadata": {
        "id": "zubnxndqFuQ-"
      },
      "source": [
        "Yikes! That looks like a lot. Let's just keep the top **25** entries. We'll do this by **sorting**."
      ]
    },
    {
      "cell_type": "code",
      "execution_count": 8,
      "metadata": {
        "colab": {
          "base_uri": "https://localhost:8080/",
          "height": 865
        },
        "id": "tl9azoXCF35p",
        "outputId": "0a0b3d39-32e8-4051-fd2d-90cfeefd105b"
      },
      "outputs": [
        {
          "data": {
            "text/html": [
              "<div>\n",
              "<style scoped>\n",
              "    .dataframe tbody tr th:only-of-type {\n",
              "        vertical-align: middle;\n",
              "    }\n",
              "\n",
              "    .dataframe tbody tr th {\n",
              "        vertical-align: top;\n",
              "    }\n",
              "\n",
              "    .dataframe thead th {\n",
              "        text-align: right;\n",
              "    }\n",
              "</style>\n",
              "<table border=\"1\" class=\"dataframe\">\n",
              "  <thead>\n",
              "    <tr style=\"text-align: right;\">\n",
              "      <th></th>\n",
              "      <th>Meme ID</th>\n",
              "    </tr>\n",
              "    <tr>\n",
              "      <th>Base Meme Name</th>\n",
              "      <th></th>\n",
              "    </tr>\n",
              "  </thead>\n",
              "  <tbody>\n",
              "    <tr>\n",
              "      <th>Y U No</th>\n",
              "      <td>766</td>\n",
              "    </tr>\n",
              "    <tr>\n",
              "      <th>Futurama Fry</th>\n",
              "      <td>663</td>\n",
              "    </tr>\n",
              "    <tr>\n",
              "      <th>Insanity Wolf</th>\n",
              "      <td>612</td>\n",
              "    </tr>\n",
              "    <tr>\n",
              "      <th>Philosoraptor</th>\n",
              "      <td>531</td>\n",
              "    </tr>\n",
              "    <tr>\n",
              "      <th>The Most Interesting Man In The World</th>\n",
              "      <td>511</td>\n",
              "    </tr>\n",
              "    <tr>\n",
              "      <th>Success Kid</th>\n",
              "      <td>510</td>\n",
              "    </tr>\n",
              "    <tr>\n",
              "      <th>Foul Bachelor Frog</th>\n",
              "      <td>469</td>\n",
              "    </tr>\n",
              "    <tr>\n",
              "      <th>Socially Awkward Penguin</th>\n",
              "      <td>446</td>\n",
              "    </tr>\n",
              "    <tr>\n",
              "      <th>Advice Yoda Gives</th>\n",
              "      <td>420</td>\n",
              "    </tr>\n",
              "    <tr>\n",
              "      <th>Joseph Ducreux</th>\n",
              "      <td>415</td>\n",
              "    </tr>\n",
              "    <tr>\n",
              "      <th>Forever Alone</th>\n",
              "      <td>414</td>\n",
              "    </tr>\n",
              "    <tr>\n",
              "      <th>Slowpoke</th>\n",
              "      <td>400</td>\n",
              "    </tr>\n",
              "    <tr>\n",
              "      <th>Good Guy Greg</th>\n",
              "      <td>387</td>\n",
              "    </tr>\n",
              "    <tr>\n",
              "      <th>we got a badass over here</th>\n",
              "      <td>381</td>\n",
              "    </tr>\n",
              "    <tr>\n",
              "      <th>Courage Wolf</th>\n",
              "      <td>375</td>\n",
              "    </tr>\n",
              "    <tr>\n",
              "      <th>Butthurt Dweller</th>\n",
              "      <td>365</td>\n",
              "    </tr>\n",
              "    <tr>\n",
              "      <th>Yo Dawg</th>\n",
              "      <td>363</td>\n",
              "    </tr>\n",
              "    <tr>\n",
              "      <th>Willy Wonka</th>\n",
              "      <td>356</td>\n",
              "    </tr>\n",
              "    <tr>\n",
              "      <th>success baby</th>\n",
              "      <td>345</td>\n",
              "    </tr>\n",
              "    <tr>\n",
              "      <th>Chuck Norris</th>\n",
              "      <td>344</td>\n",
              "    </tr>\n",
              "    <tr>\n",
              "      <th>Conspiracy Keanu</th>\n",
              "      <td>340</td>\n",
              "    </tr>\n",
              "    <tr>\n",
              "      <th>Annoying Gamer Kid</th>\n",
              "      <td>332</td>\n",
              "    </tr>\n",
              "    <tr>\n",
              "      <th>Trollface</th>\n",
              "      <td>308</td>\n",
              "    </tr>\n",
              "    <tr>\n",
              "      <th>Me Gusta</th>\n",
              "      <td>299</td>\n",
              "    </tr>\n",
              "    <tr>\n",
              "      <th>All the things</th>\n",
              "      <td>297</td>\n",
              "    </tr>\n",
              "  </tbody>\n",
              "</table>\n",
              "</div>"
            ],
            "text/plain": [
              "                                       Meme ID\n",
              "Base Meme Name                                \n",
              "Y U No                                     766\n",
              "Futurama Fry                               663\n",
              "Insanity Wolf                              612\n",
              "Philosoraptor                              531\n",
              "The Most Interesting Man In The World      511\n",
              "Success Kid                                510\n",
              "Foul Bachelor Frog                         469\n",
              "Socially Awkward Penguin                   446\n",
              "Advice Yoda Gives                          420\n",
              "Joseph Ducreux                             415\n",
              "Forever Alone                              414\n",
              "Slowpoke                                   400\n",
              "Good Guy Greg                              387\n",
              "we got a badass over here                  381\n",
              "Courage Wolf                               375\n",
              "Butthurt Dweller                           365\n",
              "Yo Dawg                                    363\n",
              "Willy Wonka                                356\n",
              "success baby                               345\n",
              "Chuck Norris                               344\n",
              "Conspiracy Keanu                           340\n",
              "Annoying Gamer Kid                         332\n",
              "Trollface                                  308\n",
              "Me Gusta                                   299\n",
              "All the things                             297"
            ]
          },
          "execution_count": 8,
          "metadata": {},
          "output_type": "execute_result"
        }
      ],
      "source": [
        "\n",
        "top_25_cat = pd.DataFrame(meme_data.groupby([\"Base Meme Name\"]).count().sort_values(by=\"Meme ID\",ascending=False)[\"Meme ID\"][0:25])\n",
        "top_25_cat"
      ]
    },
    {
      "cell_type": "markdown",
      "metadata": {
        "id": "CwJMCi2d8gRG"
      },
      "source": [
        "## A Random Entry by Meme Category\n"
      ]
    },
    {
      "cell_type": "code",
      "execution_count": 9,
      "metadata": {
        "colab": {
          "base_uri": "https://localhost:8080/",
          "height": 527,
          "referenced_widgets": [
            "d30598a399d042f7ac88c7718f8baa39",
            "c2d11ef2cd4349b48db2874499be1ac2",
            "8023e75642904cc3b3da51562d66e863",
            "30ff7de5239c492db9804faac07a29c0",
            "d65d3b30820d4b22ba8dedb907a2fbe7",
            "c83432e239584861a38465cf9807cf5d",
            "5b4a3078b39c4fb88e6de8ca5b771ded",
            "2dbc3011e7b74c8f8f4ffffd9decb44d",
            "f4a2e01639f743a49fc8a01614bfab4e",
            "0f2cc3918951426895ff5c67991a5120"
          ]
        },
        "id": "VgEuYlY6bSqE",
        "outputId": "4b17ca20-8dc6-49da-d769-e9bc601fde44"
      },
      "outputs": [
        {
          "name": "stdout",
          "output_type": "stream",
          "text": [
            "Enter a meme category from the list above to see a random entry in that category\n",
            "Click 'Show' to display\n",
            "\n"
          ]
        },
        {
          "data": {
            "application/vnd.jupyter.widget-view+json": {
              "model_id": "2a4ee111e47a49a285eaa07f16e4b46e",
              "version_major": 2,
              "version_minor": 0
            },
            "text/plain": [
              "interactive(children=(Text(value='Me Gusta', description='Category'), Button(description='Show', style=ButtonS…"
            ]
          },
          "metadata": {},
          "output_type": "display_data"
        }
      ],
      "source": [
        "#Random Entry Form\n",
        "def show_random(choice):\n",
        "  rando = meme_data[meme_data[\"Base Meme Name\"] == str(choice)].sample(1)\n",
        "  print(\"View on Memegenerator: \\t\",rando['Meme Page URL'].values[0])\n",
        "  print(\"View on Archive: \\t\\t\\t\",rando['Archived URL'].values[0])\n",
        "  display(Image(url=rando['Archived URL'].values[0], format='jpg'))\n",
        "  display(rando)\n",
        "\n",
        "\n",
        "title_textbox = widgets.Text(\n",
        "    value='Me Gusta',\n",
        "    description='Category',\n",
        ")\n",
        "print(\"Enter a meme category from the list above to see a random entry in that category\")\n",
        "print(\"Click 'Show' to display\\n\")\n",
        "show_random_control = interact_manual.options(manual_name=\"Show\")\n",
        "show_random_control(show_random,choice=title_textbox);\n"
      ]
    },
    {
      "cell_type": "markdown",
      "metadata": {
        "id": "RHvToPQC19Yg"
      },
      "source": [
        "Let's know look at how the meme is displayed as a table"
      ]
    },
    {
      "cell_type": "markdown",
      "metadata": {
        "id": "b_BrvuMfN8rd"
      },
      "source": [
        "What's the **average** number of memes in each type?\n",
        "\n"
      ]
    },
    {
      "cell_type": "code",
      "execution_count": 10,
      "metadata": {
        "colab": {
          "base_uri": "https://localhost:8080/"
        },
        "id": "x27KK6YLOGpd",
        "outputId": "144d07ba-2a86-4f2d-8fa4-49de01bc483c"
      },
      "outputs": [
        {
          "name": "stdout",
          "output_type": "stream",
          "text": [
            "Average number of entries per meme category:  34.940642035130224\n"
          ]
        }
      ],
      "source": [
        "meme_type_average = meme_data.groupby([\"Base Meme Name\"])[\"Meme ID\"].count().mean()\n",
        "print(\"Average number of entries per meme category: \",meme_type_average)"
      ]
    },
    {
      "cell_type": "markdown",
      "metadata": {
        "id": "wTSbEZ7zC6SD"
      },
      "source": [
        "The average might be a little misleading. Let's also check what the median number is for each base meme. The code chunk below is incomplete. Can you resolve the error?"
      ]
    },
    {
      "cell_type": "code",
      "execution_count": 11,
      "metadata": {
        "id": "6DKeHnnFC5dF"
      },
      "outputs": [
        {
          "name": "stdout",
          "output_type": "stream",
          "text": [
            "The median number of entires per base meme is:  13.0\n"
          ]
        }
      ],
      "source": [
        "meme_type_median = meme_data.groupby([\"Base Meme Name\"])[\"Meme ID\"].count().median()\n",
        "print(\"The median number of entires per base meme is: \",meme_type_median)"
      ]
    },
    {
      "cell_type": "markdown",
      "metadata": {
        "id": "o3YoM9_scv8I"
      },
      "source": [
        "As you can see, the difference between the mean and the median is significant. This is because there's a skewed distribution in our dataset. Do you have any guesses as to why this might be the case? Share your thoughts in the chat!\n",
        "\n",
        "Let's visualize this skewed distribution by drawing a **histogram**."
      ]
    },
    {
      "cell_type": "code",
      "execution_count": 12,
      "metadata": {
        "id": "IJBzAe84d6y6"
      },
      "outputs": [
        {
          "data": {
            "image/png": "[encoded data removed]",
            "text/plain": [
              "<Figure size 432x288 with 1 Axes>"
            ]
          },
          "metadata": {
            "needs_background": "light"
          },
          "output_type": "display_data"
        }
      ],
      "source": [
        "bins = 150\n",
        "\n",
        "plt.hist(meme_data.groupby([\"Base Meme Name\"]).count().sort_values(by=\"Meme ID\",ascending=False)[\"Meme ID\"],bins)\n",
        "\n",
        "plt.title(\"Category Frequency\")\n",
        "plt.xlabel(\"Number of Entries\")\n",
        "plt.ylabel(\"Number of Categories\")\n",
        "plt.show()"
      ]
    },
    {
      "cell_type": "markdown",
      "metadata": {
        "id": "booB-XZJfvib"
      },
      "source": [
        "**Q3** Can you describe this graph? What is the biggest value that it is showing?"
      ]
    },
    {
      "cell_type": "markdown",
      "metadata": {
        "id": "QyQjKP6cKY9H"
      },
      "source": [
        "\n",
        "\n",
        "---\n",
        "\n",
        "\n",
        "# Enriching the Data\n",
        "\n",
        "We've had some fun looking at different components of the data, but let's see if we an **enrich** the data by adding more columns of information to it."
      ]
    },
    {
      "cell_type": "markdown",
      "metadata": {
        "id": "XhH97IFLhdoB"
      },
      "source": [
        "# Language info\n",
        "\n",
        "As we've seen in our examples there are many different languages represented in our dataset. Let's see if we can **enrich** our dataset by automatically detecting what language it is and adding that as a new column. We'll use the [langdetect](https://pypi.org/project/langdetect/) library to do this. We can use the text in the _Alternate Text_ column."
      ]
    },
    {
      "cell_type": "code",
      "execution_count": 13,
      "metadata": {
        "id": "ECsGpyPHknSl"
      },
      "outputs": [
        {
          "data": {
            "text/html": [
              "<div>\n",
              "<style scoped>\n",
              "    .dataframe tbody tr th:only-of-type {\n",
              "        vertical-align: middle;\n",
              "    }\n",
              "\n",
              "    .dataframe tbody tr th {\n",
              "        vertical-align: top;\n",
              "    }\n",
              "\n",
              "    .dataframe thead th {\n",
              "        text-align: right;\n",
              "    }\n",
              "</style>\n",
              "<table border=\"1\" class=\"dataframe\">\n",
              "  <thead>\n",
              "    <tr style=\"text-align: right;\">\n",
              "      <th></th>\n",
              "      <th>Meme ID</th>\n",
              "      <th>Archived URL</th>\n",
              "      <th>Base Meme Name</th>\n",
              "      <th>Meme Page URL</th>\n",
              "      <th>MD5 Hash</th>\n",
              "      <th>File Size (In Bytes)</th>\n",
              "      <th>Alternate Text</th>\n",
              "      <th>Display Name</th>\n",
              "      <th>Upper Text</th>\n",
              "      <th>Lower Text</th>\n",
              "    </tr>\n",
              "  </thead>\n",
              "  <tbody>\n",
              "    <tr>\n",
              "      <th>11387</th>\n",
              "      <td>11388320</td>\n",
              "      <td>http://webarchive.loc.gov/all/0/https://cdn.me...</td>\n",
              "      <td>Butthurt Dweller Original</td>\n",
              "      <td>http://memegenerator.net/instance/11388320</td>\n",
              "      <td>5cb002b1b9c5fca5b52c4c0e63ebaaaa</td>\n",
              "      <td>41194</td>\n",
              "      <td>md3 makaroooov  &gt;d</td>\n",
              "      <td>Butthurt Dweller Original</td>\n",
              "      <td>md3</td>\n",
              "      <td>makaroooov  &gt;d</td>\n",
              "    </tr>\n",
              "  </tbody>\n",
              "</table>\n",
              "</div>"
            ],
            "text/plain": [
              "        Meme ID                                       Archived URL  \\\n",
              "11387  11388320  http://webarchive.loc.gov/all/0/https://cdn.me...   \n",
              "\n",
              "                  Base Meme Name                               Meme Page URL  \\\n",
              "11387  Butthurt Dweller Original  http://memegenerator.net/instance/11388320   \n",
              "\n",
              "                               MD5 Hash  File Size (In Bytes)  \\\n",
              "11387  5cb002b1b9c5fca5b52c4c0e63ebaaaa                 41194   \n",
              "\n",
              "           Alternate Text               Display Name Upper Text  \\\n",
              "11387  md3 makaroooov  >d  Butthurt Dweller Original        md3   \n",
              "\n",
              "           Lower Text  \n",
              "11387  makaroooov  >d  "
            ]
          },
          "execution_count": 13,
          "metadata": {},
          "output_type": "execute_result"
        }
      ],
      "source": [
        "#Let's look at our random item again\n",
        "rando"
      ]
    },
    {
      "cell_type": "code",
      "execution_count": 14,
      "metadata": {
        "id": "1ezA2eAbjsAP"
      },
      "outputs": [
        {
          "name": "stdout",
          "output_type": "stream",
          "text": [
            "nl\n"
          ]
        }
      ],
      "source": [
        "# Let's the language of the random entry from earlier\n",
        "# We'll get a two letter languge code that represents one of the languages in the list of ISO 639-1 codes (https://en.wikipedia.org/wiki/List_of_ISO_639-1_codes). \n",
        "print(detect(str(rando[\"Alternate Text\"])))"
      ]
    },
    {
      "cell_type": "markdown",
      "metadata": {
        "id": "ceDW1-LmvMbl"
      },
      "source": [
        "It would take to long to calculate all these values now for all of the entries in the dataset. So the next cell will just add a new column to our dataset of pre-calculated values. (It took 8 minutes for language detection code to run on the original dataset)\n",
        "\n",
        "Have a look at the new column _Language_ that was added."
      ]
    },
    {
      "cell_type": "code",
      "execution_count": 15,
      "metadata": {
        "id": "krcyF-bfvnuF"
      },
      "outputs": [],
      "source": [
        "#reload original dataset\n",
        "meme_data = pd.read_csv(\"https://raw.githubusercontent.com/BrockDSL/Analyzing_Web_Archives/main/memegenerator.csv\", sep=\",\")\n",
        "meme_data[\"Meme ID\"] = meme_data[\"Meme ID\"].astype(str)\n",
        "\n",
        "#load and merge language info\n",
        "lang_data = pd.read_csv(\"https://raw.githubusercontent.com/BrockDSL/Analyzing_Web_Archives/main/language_data.csv\")\n",
        "lang_data[\"Meme ID\"] = lang_data[\"Meme ID\"].astype(str)\n",
        "meme_data = pd.merge(meme_data,lang_data,on=\"Meme ID\", how = \"outer\")"
      ]
    },
    {
      "cell_type": "markdown",
      "metadata": {
        "id": "G4nH1SavBqTx"
      },
      "source": [
        "\n",
        "## How Effective was Language Detection?\n",
        "\n",
        "Since the language detection was an automated process there might be some problems with results. As described in the [notebook](https://github.com/BrockDSL/Analyzing_Web_Archives/blob/main/Meme_Language_Detection.ipynb) that generates the data, if a match can't be found it adds `Could Not Detect` to the instead of a language code. Let's see how many couldn't be detected:"
      ]
    },
    {
      "cell_type": "code",
      "execution_count": 16,
      "metadata": {
        "id": "2VN_z0nlCK9Y"
      },
      "outputs": [
        {
          "data": {
            "text/plain": [
              "371"
            ]
          },
          "execution_count": 16,
          "metadata": {},
          "output_type": "execute_result"
        }
      ],
      "source": [
        "meme_data[meme_data[\"Language\"] == \"Could Not Detect\"][\"Meme ID\"].count()"
      ]
    },
    {
      "cell_type": "markdown",
      "metadata": {
        "id": "xg5OOn96Lshg"
      },
      "source": [
        "How many languages are there in the data set. (Including our `Could not detect` entries)"
      ]
    },
    {
      "cell_type": "markdown",
      "metadata": {
        "id": "ZycwuAgbCT_P"
      },
      "source": [
        "Yikes! Let's see what happened here by looking a couple or random entries with that value. If were were going to do some serious analysis we would have to correct those, probably with a manual process."
      ]
    },
    {
      "cell_type": "code",
      "execution_count": 17,
      "metadata": {
        "id": "0bfLO608CkrN"
      },
      "outputs": [
        {
          "data": {
            "text/html": [
              "<div>\n",
              "<style scoped>\n",
              "    .dataframe tbody tr th:only-of-type {\n",
              "        vertical-align: middle;\n",
              "    }\n",
              "\n",
              "    .dataframe tbody tr th {\n",
              "        vertical-align: top;\n",
              "    }\n",
              "\n",
              "    .dataframe thead th {\n",
              "        text-align: right;\n",
              "    }\n",
              "</style>\n",
              "<table border=\"1\" class=\"dataframe\">\n",
              "  <thead>\n",
              "    <tr style=\"text-align: right;\">\n",
              "      <th></th>\n",
              "      <th>Meme ID</th>\n",
              "      <th>Archived URL</th>\n",
              "      <th>Base Meme Name</th>\n",
              "      <th>Meme Page URL</th>\n",
              "      <th>MD5 Hash</th>\n",
              "      <th>File Size (In Bytes)</th>\n",
              "      <th>Alternate Text</th>\n",
              "      <th>Display Name</th>\n",
              "      <th>Upper Text</th>\n",
              "      <th>Lower Text</th>\n",
              "      <th>Language</th>\n",
              "    </tr>\n",
              "  </thead>\n",
              "  <tbody>\n",
              "    <tr>\n",
              "      <th>19177</th>\n",
              "      <td>13863577</td>\n",
              "      <td>http://webarchive.loc.gov/all/0/https://cdn.me...</td>\n",
              "      <td>Sunny Student</td>\n",
              "      <td>http://memegenerator.net/instance/13863577</td>\n",
              "      <td>fab2da1d33ec43d9fa1d992732b91794</td>\n",
              "      <td>38360</td>\n",
              "      <td>http://g.static.memegenerator.net/cache/images...</td>\n",
              "      <td>Sunny Student</td>\n",
              "      <td>-</td>\n",
              "      <td>http://g.static.memegenerator.net/cache/images...</td>\n",
              "      <td>Could Not Detect</td>\n",
              "    </tr>\n",
              "    <tr>\n",
              "      <th>48916</th>\n",
              "      <td>29774454</td>\n",
              "      <td>http://webarchive.loc.gov/all/0/http://cdn.mem...</td>\n",
              "      <td>Baby fist</td>\n",
              "      <td>http://memegenerator.net/instance/29774454</td>\n",
              "      <td>47b7cfea7ebea96cbd12c3ff1beec572</td>\n",
              "      <td>32494</td>\n",
              "      <td>13</td>\n",
              "      <td>Baby fist</td>\n",
              "      <td>-</td>\n",
              "      <td>13</td>\n",
              "      <td>Could Not Detect</td>\n",
              "    </tr>\n",
              "    <tr>\n",
              "      <th>50838</th>\n",
              "      <td>30891252</td>\n",
              "      <td>http://webarchive.loc.gov/all/0/http://cdn.mem...</td>\n",
              "      <td>Look at all these</td>\n",
              "      <td>http://memegenerator.net/instance/30891252</td>\n",
              "      <td>d3a2b4bdc19b487fb87436798020a14b</td>\n",
              "      <td>31527</td>\n",
              "      <td>.   .</td>\n",
              "      <td>Look at all these</td>\n",
              "      <td>.</td>\n",
              "      <td>.</td>\n",
              "      <td>Could Not Detect</td>\n",
              "    </tr>\n",
              "    <tr>\n",
              "      <th>46676</th>\n",
              "      <td>28361654</td>\n",
              "      <td>http://webarchive.loc.gov/all/0/http://cdn.mem...</td>\n",
              "      <td>-</td>\n",
              "      <td>-</td>\n",
              "      <td>6e726cfbb72d6ac58699d8b67e2ac44b</td>\n",
              "      <td>49350</td>\n",
              "      <td>-</td>\n",
              "      <td>-</td>\n",
              "      <td>-</td>\n",
              "      <td>-</td>\n",
              "      <td>Could Not Detect</td>\n",
              "    </tr>\n",
              "    <tr>\n",
              "      <th>37433</th>\n",
              "      <td>23637325</td>\n",
              "      <td>http://webarchive.loc.gov/all/0/http://cdn.mem...</td>\n",
              "      <td>Koala can't believe it</td>\n",
              "      <td>http://memegenerator.net/instance/23637325</td>\n",
              "      <td>c5b9bbf962b6aa7bd96d5dd5d7d48c4f</td>\n",
              "      <td>53415</td>\n",
              "      <td>. .</td>\n",
              "      <td>Koala can't believe it</td>\n",
              "      <td>.</td>\n",
              "      <td>.</td>\n",
              "      <td>Could Not Detect</td>\n",
              "    </tr>\n",
              "  </tbody>\n",
              "</table>\n",
              "</div>"
            ],
            "text/plain": [
              "        Meme ID                                       Archived URL  \\\n",
              "19177  13863577  http://webarchive.loc.gov/all/0/https://cdn.me...   \n",
              "48916  29774454  http://webarchive.loc.gov/all/0/http://cdn.mem...   \n",
              "50838  30891252  http://webarchive.loc.gov/all/0/http://cdn.mem...   \n",
              "46676  28361654  http://webarchive.loc.gov/all/0/http://cdn.mem...   \n",
              "37433  23637325  http://webarchive.loc.gov/all/0/http://cdn.mem...   \n",
              "\n",
              "               Base Meme Name                               Meme Page URL  \\\n",
              "19177           Sunny Student  http://memegenerator.net/instance/13863577   \n",
              "48916               Baby fist  http://memegenerator.net/instance/29774454   \n",
              "50838       Look at all these  http://memegenerator.net/instance/30891252   \n",
              "46676                       -                                           -   \n",
              "37433  Koala can't believe it  http://memegenerator.net/instance/23637325   \n",
              "\n",
              "                               MD5 Hash  File Size (In Bytes)  \\\n",
              "19177  fab2da1d33ec43d9fa1d992732b91794                 38360   \n",
              "48916  47b7cfea7ebea96cbd12c3ff1beec572                 32494   \n",
              "50838  d3a2b4bdc19b487fb87436798020a14b                 31527   \n",
              "46676  6e726cfbb72d6ac58699d8b67e2ac44b                 49350   \n",
              "37433  c5b9bbf962b6aa7bd96d5dd5d7d48c4f                 53415   \n",
              "\n",
              "                                          Alternate Text  \\\n",
              "19177  http://g.static.memegenerator.net/cache/images...   \n",
              "48916                                                 13   \n",
              "50838                                              .   .   \n",
              "46676                                                  -   \n",
              "37433                                                . .   \n",
              "\n",
              "                 Display Name Upper Text  \\\n",
              "19177           Sunny Student          -   \n",
              "48916               Baby fist          -   \n",
              "50838       Look at all these          .   \n",
              "46676                       -          -   \n",
              "37433  Koala can't believe it          .   \n",
              "\n",
              "                                              Lower Text          Language  \n",
              "19177  http://g.static.memegenerator.net/cache/images...  Could Not Detect  \n",
              "48916                                                 13  Could Not Detect  \n",
              "50838                                                  .  Could Not Detect  \n",
              "46676                                                  -  Could Not Detect  \n",
              "37433                                                  .  Could Not Detect  "
            ]
          },
          "execution_count": 17,
          "metadata": {},
          "output_type": "execute_result"
        }
      ],
      "source": [
        "meme_data[meme_data[\"Language\"] == \"Could Not Detect\"].sample(5)"
      ]
    },
    {
      "cell_type": "markdown",
      "metadata": {
        "id": "obVBfS_1Ctvt"
      },
      "source": [
        "For now let's just proceed by keeping them in the data set."
      ]
    },
    {
      "cell_type": "markdown",
      "metadata": {
        "id": "ADzD1K2H-Kmi"
      },
      "source": [
        "\n",
        "## Summary of Language Information\n",
        "\n",
        "Run the next cell to generate a pie graph of the top 10 languages seen in the memes."
      ]
    },
    {
      "cell_type": "code",
      "execution_count": 18,
      "metadata": {
        "id": "c50-lZ6E20DK"
      },
      "outputs": [
        {
          "data": {
            "image/png": "[encoded data removed]",
            "text/plain": [
              "<Figure size 432x288 with 1 Axes>"
            ]
          },
          "metadata": {},
          "output_type": "display_data"
        }
      ],
      "source": [
        "pie_data = meme_data.groupby([\"Language\"]).count().sort_values(by=\"Meme ID\",ascending=False)[0:10][\"Meme ID\"]\n",
        "plt.pie(pie_data, labels = pie_data.keys())\n",
        "plt.title(\"Top 10 Languages in the Memes\")\n",
        "plt.show()"
      ]
    },
    {
      "cell_type": "markdown",
      "metadata": {
        "id": "um-YP0h7-eaY"
      },
      "source": [
        "Is that how you thought the languages would be distributed?"
      ]
    },
    {
      "cell_type": "markdown",
      "metadata": {
        "id": "FZmcRBx99yiX"
      },
      "source": [
        "# Meme Scores!\n",
        "\n",
        "Memegenerator has voting capability. By clicking the up or down arrow users can increase / descrease this score. Let's see this for our random meme. Run the next cell to generate the preview"
      ]
    },
    {
      "cell_type": "code",
      "execution_count": 19,
      "metadata": {
        "id": "V6jFu3cu-JuJ"
      },
      "outputs": [
        {
          "data": {
            "text/html": [
              "\n",
              "        <iframe\n",
              "            width=\"1000\"\n",
              "            height=\"700\"\n",
              "            src=\"https://memegenerator.net/instance/11388320\"\n",
              "            frameborder=\"0\"\n",
              "            allowfullscreen\n",
              "            \n",
              "        ></iframe>\n",
              "        "
            ],
            "text/plain": [
              "<IPython.lib.display.IFrame at 0x1239f97c0>"
            ]
          },
          "execution_count": 19,
          "metadata": {},
          "output_type": "execute_result"
        }
      ],
      "source": [
        "preview_url = str(rando['Meme Page URL'].values[0])\n",
        "preview_url = preview_url.replace(\"http:\",\"https:\")\n",
        "\n",
        "IFrame(preview_url,width=1000, height=700)"
      ]
    },
    {
      "cell_type": "markdown",
      "metadata": {
        "id": "-YOZ69DHBPoI"
      },
      "source": [
        "To enrich our dataset even more we found the scores of all of the memes in dataset. We did this by **downloading** all 60000 meme webpages and screen scrapping to find the score that was presented on the page. This took about **4 Hours** so we won't recreate this here. We will however open a CSV file of these scores and add them to our dataset, just like we did with the language information. In this case for memes we could not find the score for (because there were deleted from the site for example) we just use the place holder value `NaN` instead.\n",
        "\n",
        "\n",
        "\n",
        "Run the next cell to do this and preview a few random scores."
      ]
    },
    {
      "cell_type": "code",
      "execution_count": 20,
      "metadata": {
        "colab": {
          "base_uri": "https://localhost:8080/",
          "height": 206
        },
        "id": "EwXj1N3uB2tW",
        "outputId": "78b29d55-9ac5-48cd-8124-908e251307ca"
      },
      "outputs": [
        {
          "data": {
            "text/html": [
              "<div>\n",
              "<style scoped>\n",
              "    .dataframe tbody tr th:only-of-type {\n",
              "        vertical-align: middle;\n",
              "    }\n",
              "\n",
              "    .dataframe tbody tr th {\n",
              "        vertical-align: top;\n",
              "    }\n",
              "\n",
              "    .dataframe thead th {\n",
              "        text-align: right;\n",
              "    }\n",
              "</style>\n",
              "<table border=\"1\" class=\"dataframe\">\n",
              "  <thead>\n",
              "    <tr style=\"text-align: right;\">\n",
              "      <th></th>\n",
              "      <th>Meme ID</th>\n",
              "      <th>Score</th>\n",
              "    </tr>\n",
              "  </thead>\n",
              "  <tbody>\n",
              "    <tr>\n",
              "      <th>19927</th>\n",
              "      <td>12995659</td>\n",
              "      <td>0</td>\n",
              "    </tr>\n",
              "    <tr>\n",
              "      <th>23548</th>\n",
              "      <td>10589141</td>\n",
              "      <td>51</td>\n",
              "    </tr>\n",
              "    <tr>\n",
              "      <th>23571</th>\n",
              "      <td>13925911</td>\n",
              "      <td>0</td>\n",
              "    </tr>\n",
              "    <tr>\n",
              "      <th>15883</th>\n",
              "      <td>16760572</td>\n",
              "      <td>0</td>\n",
              "    </tr>\n",
              "    <tr>\n",
              "      <th>6146</th>\n",
              "      <td>10677263</td>\n",
              "      <td>51</td>\n",
              "    </tr>\n",
              "  </tbody>\n",
              "</table>\n",
              "</div>"
            ],
            "text/plain": [
              "        Meme ID  Score\n",
              "19927  12995659      0\n",
              "23548  10589141     51\n",
              "23571  13925911      0\n",
              "15883  16760572      0\n",
              "6146   10677263     51"
            ]
          },
          "execution_count": 20,
          "metadata": {},
          "output_type": "execute_result"
        }
      ],
      "source": [
        "#Lets open the file and have a peak.\n",
        "meme_scores = pd.read_csv(\"https://raw.githubusercontent.com/BrockDSL/Analyzing_Web_Archives/main/meme_scores.csv\",dtype={'Meme ID': object})\n",
        "meme_scores[\"Meme ID\"] = meme_scores[\"Meme ID\"].astype(str)\n",
        "meme_scores.sample(5)"
      ]
    },
    {
      "cell_type": "markdown",
      "metadata": {
        "id": "d_DhgAOQKyUd"
      },
      "source": [
        "## Constructing the Final Data Set"
      ]
    },
    {
      "cell_type": "markdown",
      "metadata": {
        "id": "ft0tgjFmKavX"
      },
      "source": [
        "Let's add this data to our original dataset by matching on the **Meme ID** column. Then let's look at a couple of random entries of our newly enriched completed dataset. For memes that we couldn't get a score for, we drop from the dataset. (We missed some scores because the memes were deleted from the website) Run the next cell to create our final version of the dataset with all of enriched data and display a few random entries. Notice how we add a column called _Score_.\n"
      ]
    },
    {
      "cell_type": "code",
      "execution_count": 21,
      "metadata": {
        "id": "cVyweUDGFInr"
      },
      "outputs": [],
      "source": [
        "#Original Dataset\n",
        "meme_data = pd.read_csv(\"https://raw.githubusercontent.com/BrockDSL/Analyzing_Web_Archives/main/memegenerator.csv\", sep=\",\")\n",
        "meme_data[\"Meme ID\"] = meme_data[\"Meme ID\"].astype(str)\n",
        "\n",
        "#open CSV of language info and create a dataframe\n",
        "lang_data = pd.read_csv(\"https://raw.githubusercontent.com/BrockDSL/Analyzing_Web_Archives/main/language_data.csv\")\n",
        "lang_data[\"Meme ID\"] = lang_data[\"Meme ID\"].astype(str)\n",
        "\n",
        "#merge language data to meme data frame\n",
        "meme_data = pd.merge(meme_data,lang_data,on=\"Meme ID\", how = \"outer\")\n",
        "\n",
        "#Meme Score Added\n",
        "meme_scores = pd.read_csv(\"https://raw.githubusercontent.com/BrockDSL/Analyzing_Web_Archives/main/meme_scores.csv\",dtype={'Meme ID': object})\n",
        "meme_scores[\"Meme ID\"] = meme_scores[\"Meme ID\"].astype(str)\n",
        "meme_data = pd.merge(meme_data,meme_scores,on=\"Meme ID\", how = \"outer\")\n",
        "meme_data.dropna(thresh=8,inplace=True)\n",
        "\n",
        "#set our random item to be from our new dataframe\n",
        "rando = meme_data.sample(1)\n",
        "#meme_data.sample(5)\n"
      ]
    },
    {
      "cell_type": "markdown",
      "metadata": {
        "id": "4Jo6tagSOFfZ"
      },
      "source": [
        "\n",
        "\n",
        "---\n",
        "\n",
        "\n",
        "# The Final Analysis: Scores\n",
        "\n",
        "\n",
        "Let's take a look at some aspects of our data now that we have enriched it with all the extra pieces:\n",
        "\n",
        "- Language \n",
        "- Scores\n",
        "\n",
        "First our average score..."
      ]
    },
    {
      "cell_type": "code",
      "execution_count": 22,
      "metadata": {
        "id": "7mUKduJiOxod"
      },
      "outputs": [
        {
          "name": "stdout",
          "output_type": "stream",
          "text": [
            "Average score of memes:  10.576686894303052\n"
          ]
        }
      ],
      "source": [
        "print(\"Average score of memes: \",meme_data[\"Score\"].mean())"
      ]
    },
    {
      "cell_type": "markdown",
      "metadata": {
        "id": "8lna3w2OAk5y"
      },
      "source": [
        "## Average Scores by Language\n",
        "\n",
        "Let's see what our averages scores are for all of the languages in our dataset."
      ]
    },
    {
      "cell_type": "code",
      "execution_count": 23,
      "metadata": {
        "id": "QmhQeA8RO_Cp"
      },
      "outputs": [
        {
          "name": "stdout",
          "output_type": "stream",
          "text": [
            "Average score by languages, top 10 only: \n"
          ]
        },
        {
          "data": {
            "text/html": [
              "<div>\n",
              "<style scoped>\n",
              "    .dataframe tbody tr th:only-of-type {\n",
              "        vertical-align: middle;\n",
              "    }\n",
              "\n",
              "    .dataframe tbody tr th {\n",
              "        vertical-align: top;\n",
              "    }\n",
              "\n",
              "    .dataframe thead th {\n",
              "        text-align: right;\n",
              "    }\n",
              "</style>\n",
              "<table border=\"1\" class=\"dataframe\">\n",
              "  <thead>\n",
              "    <tr style=\"text-align: right;\">\n",
              "      <th></th>\n",
              "      <th>Score</th>\n",
              "    </tr>\n",
              "    <tr>\n",
              "      <th>Language</th>\n",
              "      <th></th>\n",
              "    </tr>\n",
              "  </thead>\n",
              "  <tbody>\n",
              "    <tr>\n",
              "      <th>ar</th>\n",
              "      <td>44.666667</td>\n",
              "    </tr>\n",
              "    <tr>\n",
              "      <th>en</th>\n",
              "      <td>30.020067</td>\n",
              "    </tr>\n",
              "    <tr>\n",
              "      <th>no</th>\n",
              "      <td>19.957854</td>\n",
              "    </tr>\n",
              "    <tr>\n",
              "      <th>af</th>\n",
              "      <td>17.688571</td>\n",
              "    </tr>\n",
              "    <tr>\n",
              "      <th>da</th>\n",
              "      <td>14.816667</td>\n",
              "    </tr>\n",
              "    <tr>\n",
              "      <th>fi</th>\n",
              "      <td>11.815603</td>\n",
              "    </tr>\n",
              "    <tr>\n",
              "      <th>sv</th>\n",
              "      <td>11.495327</td>\n",
              "    </tr>\n",
              "    <tr>\n",
              "      <th>nl</th>\n",
              "      <td>7.625000</td>\n",
              "    </tr>\n",
              "    <tr>\n",
              "      <th>de</th>\n",
              "      <td>7.418459</td>\n",
              "    </tr>\n",
              "    <tr>\n",
              "      <th>vi</th>\n",
              "      <td>6.506234</td>\n",
              "    </tr>\n",
              "    <tr>\n",
              "      <th>cy</th>\n",
              "      <td>6.434316</td>\n",
              "    </tr>\n",
              "    <tr>\n",
              "      <th>hr</th>\n",
              "      <td>6.052288</td>\n",
              "    </tr>\n",
              "    <tr>\n",
              "      <th>fr</th>\n",
              "      <td>5.397032</td>\n",
              "    </tr>\n",
              "    <tr>\n",
              "      <th>et</th>\n",
              "      <td>5.081301</td>\n",
              "    </tr>\n",
              "    <tr>\n",
              "      <th>it</th>\n",
              "      <td>4.099145</td>\n",
              "    </tr>\n",
              "    <tr>\n",
              "      <th>ca</th>\n",
              "      <td>3.864553</td>\n",
              "    </tr>\n",
              "    <tr>\n",
              "      <th>tl</th>\n",
              "      <td>3.688705</td>\n",
              "    </tr>\n",
              "    <tr>\n",
              "      <th>so</th>\n",
              "      <td>3.398559</td>\n",
              "    </tr>\n",
              "    <tr>\n",
              "      <th>tr</th>\n",
              "      <td>3.164557</td>\n",
              "    </tr>\n",
              "    <tr>\n",
              "      <th>sl</th>\n",
              "      <td>2.959770</td>\n",
              "    </tr>\n",
              "    <tr>\n",
              "      <th>lv</th>\n",
              "      <td>2.945946</td>\n",
              "    </tr>\n",
              "    <tr>\n",
              "      <th>sq</th>\n",
              "      <td>2.838710</td>\n",
              "    </tr>\n",
              "    <tr>\n",
              "      <th>ro</th>\n",
              "      <td>2.779487</td>\n",
              "    </tr>\n",
              "    <tr>\n",
              "      <th>sw</th>\n",
              "      <td>2.671141</td>\n",
              "    </tr>\n",
              "    <tr>\n",
              "      <th>ru</th>\n",
              "      <td>2.112350</td>\n",
              "    </tr>\n",
              "    <tr>\n",
              "      <th>hu</th>\n",
              "      <td>1.900000</td>\n",
              "    </tr>\n",
              "    <tr>\n",
              "      <th>bg</th>\n",
              "      <td>1.628963</td>\n",
              "    </tr>\n",
              "    <tr>\n",
              "      <th>es</th>\n",
              "      <td>1.626279</td>\n",
              "    </tr>\n",
              "    <tr>\n",
              "      <th>id</th>\n",
              "      <td>1.574939</td>\n",
              "    </tr>\n",
              "    <tr>\n",
              "      <th>pt</th>\n",
              "      <td>1.335011</td>\n",
              "    </tr>\n",
              "    <tr>\n",
              "      <th>cs</th>\n",
              "      <td>1.320000</td>\n",
              "    </tr>\n",
              "    <tr>\n",
              "      <th>uk</th>\n",
              "      <td>1.271144</td>\n",
              "    </tr>\n",
              "    <tr>\n",
              "      <th>pl</th>\n",
              "      <td>1.243094</td>\n",
              "    </tr>\n",
              "    <tr>\n",
              "      <th>Could Not Detect</th>\n",
              "      <td>1.146758</td>\n",
              "    </tr>\n",
              "    <tr>\n",
              "      <th>mk</th>\n",
              "      <td>0.995268</td>\n",
              "    </tr>\n",
              "    <tr>\n",
              "      <th>sk</th>\n",
              "      <td>0.691358</td>\n",
              "    </tr>\n",
              "    <tr>\n",
              "      <th>lt</th>\n",
              "      <td>0.629630</td>\n",
              "    </tr>\n",
              "    <tr>\n",
              "      <th>el</th>\n",
              "      <td>0.250000</td>\n",
              "    </tr>\n",
              "    <tr>\n",
              "      <th>th</th>\n",
              "      <td>0.000000</td>\n",
              "    </tr>\n",
              "    <tr>\n",
              "      <th>ko</th>\n",
              "      <td>0.000000</td>\n",
              "    </tr>\n",
              "    <tr>\n",
              "      <th>he</th>\n",
              "      <td>0.000000</td>\n",
              "    </tr>\n",
              "    <tr>\n",
              "      <th>zh-cn</th>\n",
              "      <td>0.000000</td>\n",
              "    </tr>\n",
              "    <tr>\n",
              "      <th>zh-tw</th>\n",
              "      <td>0.000000</td>\n",
              "    </tr>\n",
              "    <tr>\n",
              "      <th>bn</th>\n",
              "      <td>NaN</td>\n",
              "    </tr>\n",
              "  </tbody>\n",
              "</table>\n",
              "</div>"
            ],
            "text/plain": [
              "                      Score\n",
              "Language                   \n",
              "ar                44.666667\n",
              "en                30.020067\n",
              "no                19.957854\n",
              "af                17.688571\n",
              "da                14.816667\n",
              "fi                11.815603\n",
              "sv                11.495327\n",
              "nl                 7.625000\n",
              "de                 7.418459\n",
              "vi                 6.506234\n",
              "cy                 6.434316\n",
              "hr                 6.052288\n",
              "fr                 5.397032\n",
              "et                 5.081301\n",
              "it                 4.099145\n",
              "ca                 3.864553\n",
              "tl                 3.688705\n",
              "so                 3.398559\n",
              "tr                 3.164557\n",
              "sl                 2.959770\n",
              "lv                 2.945946\n",
              "sq                 2.838710\n",
              "ro                 2.779487\n",
              "sw                 2.671141\n",
              "ru                 2.112350\n",
              "hu                 1.900000\n",
              "bg                 1.628963\n",
              "es                 1.626279\n",
              "id                 1.574939\n",
              "pt                 1.335011\n",
              "cs                 1.320000\n",
              "uk                 1.271144\n",
              "pl                 1.243094\n",
              "Could Not Detect   1.146758\n",
              "mk                 0.995268\n",
              "sk                 0.691358\n",
              "lt                 0.629630\n",
              "el                 0.250000\n",
              "th                 0.000000\n",
              "ko                 0.000000\n",
              "he                 0.000000\n",
              "zh-cn              0.000000\n",
              "zh-tw              0.000000\n",
              "bn                      NaN"
            ]
          },
          "execution_count": 23,
          "metadata": {},
          "output_type": "execute_result"
        }
      ],
      "source": [
        "print(\"Average score by languages, top 10 only: \")\n",
        "top_by_language = pd.DataFrame(meme_data.groupby(\"Language\").mean()[\"Score\"].sort_values(ascending=False))\n",
        "top_by_language"
      ]
    },
    {
      "cell_type": "markdown",
      "metadata": {
        "id": "Uy5gaYE-H_Pk"
      },
      "source": [
        "\n",
        "## Top Score by Language\n",
        "\n",
        "Run the cell below and add the two letter code of a _Language_ in the box below to see the highest scoring meme in that category. Click the **Show** button to retrieve the top meme."
      ]
    },
    {
      "cell_type": "code",
      "execution_count": 24,
      "metadata": {
        "colab": {
          "base_uri": "https://localhost:8080/",
          "height": 454,
          "referenced_widgets": [
            "a58ad0705b6d415780364f72a261be67",
            "315e149a52b44feb8fa06130b505b4b0",
            "12f0c2f04d494cd69c63937e5a215188",
            "3e9fe2468e1842ecaccb352b2286a252",
            "76c7edb8535147f491084bafe963e475",
            "1dc5b12a89d34e0bb1211bee6aa48e7d",
            "d2df1e3a25f5437d8b806622a66c11f9",
            "15eb988e93b44ea79709aebbf5192e0a",
            "b33b81e6008b4e6f9d75c24372916a7c",
            "3df817385be94ad48e494596f5912d24"
          ]
        },
        "id": "w8fomuG5IZam",
        "outputId": "04f93888-42e4-4c70-9258-ea543093026a"
      },
      "outputs": [
        {
          "name": "stdout",
          "output_type": "stream",
          "text": [
            "Type in any two letter language code to see the top scoring meme in that language\n"
          ]
        },
        {
          "data": {
            "application/vnd.jupyter.widget-view+json": {
              "model_id": "796fa5db347844ac98b713a5f204414a",
              "version_major": 2,
              "version_minor": 0
            },
            "text/plain": [
              "interactive(children=(Text(value='de', description='Language'), Button(description='Show', style=ButtonStyle()…"
            ]
          },
          "metadata": {},
          "output_type": "display_data"
        }
      ],
      "source": [
        "def show_top_by_language(language_choice):\n",
        "  top_lang_score = pd.DataFrame(meme_data[meme_data[\"Language\"] == language_choice])\n",
        "  top_lang_score = top_lang_score.sort_values(by=\"Score\",ascending=False).head(1)\n",
        "  display(Image(url=top_lang_score['Archived URL'].values[0], format='jpg'))\n",
        "  display(top_lang_score)\n",
        "\n",
        "language_textbox = widgets.Text(\n",
        "    value = 'de',\n",
        "    description = 'Language'\n",
        "\n",
        ")\n",
        "\n",
        "print(\"Type in any two letter language code to see the top scoring meme in that language\")\n",
        "show_top_lang_control = interact_manual.options(manual_name=\"Show\")\n",
        "show_top_lang_control(show_top_by_language,language_choice=language_textbox);\n",
        "\n",
        "\n"
      ]
    },
    {
      "cell_type": "markdown",
      "metadata": {
        "id": "YoNvQoXiIUdA"
      },
      "source": [
        "Let's see what our averages scores are for the top 25 Base Memes in our dataset."
      ]
    },
    {
      "cell_type": "code",
      "execution_count": 25,
      "metadata": {
        "id": "qLqdB5CMPjCT"
      },
      "outputs": [
        {
          "name": "stdout",
          "output_type": "stream",
          "text": [
            "Average score by base memes, top 25 only: \n"
          ]
        },
        {
          "data": {
            "text/html": [
              "<div>\n",
              "<style scoped>\n",
              "    .dataframe tbody tr th:only-of-type {\n",
              "        vertical-align: middle;\n",
              "    }\n",
              "\n",
              "    .dataframe tbody tr th {\n",
              "        vertical-align: top;\n",
              "    }\n",
              "\n",
              "    .dataframe thead th {\n",
              "        text-align: right;\n",
              "    }\n",
              "</style>\n",
              "<table border=\"1\" class=\"dataframe\">\n",
              "  <thead>\n",
              "    <tr style=\"text-align: right;\">\n",
              "      <th></th>\n",
              "      <th>Score</th>\n",
              "    </tr>\n",
              "    <tr>\n",
              "      <th>Base Meme Name</th>\n",
              "      <th></th>\n",
              "    </tr>\n",
              "  </thead>\n",
              "  <tbody>\n",
              "    <tr>\n",
              "      <th>Scumbag Analytic Philosopher</th>\n",
              "      <td>159.400000</td>\n",
              "    </tr>\n",
              "    <tr>\n",
              "      <th>Douchebag Roommate</th>\n",
              "      <td>134.437500</td>\n",
              "    </tr>\n",
              "    <tr>\n",
              "      <th>Fallout 3</th>\n",
              "      <td>117.142857</td>\n",
              "    </tr>\n",
              "    <tr>\n",
              "      <th>Jonnen Neuvo</th>\n",
              "      <td>111.000000</td>\n",
              "    </tr>\n",
              "    <tr>\n",
              "      <th>PTSD Karate Kyle</th>\n",
              "      <td>88.272727</td>\n",
              "    </tr>\n",
              "    <tr>\n",
              "      <th>Stereotypical Corps Guy</th>\n",
              "      <td>85.714286</td>\n",
              "    </tr>\n",
              "    <tr>\n",
              "      <th>Idiot Nerd Girl</th>\n",
              "      <td>85.066667</td>\n",
              "    </tr>\n",
              "    <tr>\n",
              "      <th>Condescending Wonka</th>\n",
              "      <td>84.750000</td>\n",
              "    </tr>\n",
              "    <tr>\n",
              "      <th>Privilege Denying Feminist</th>\n",
              "      <td>82.882353</td>\n",
              "    </tr>\n",
              "    <tr>\n",
              "      <th>Bill O'Reilly Proves God</th>\n",
              "      <td>74.615385</td>\n",
              "    </tr>\n",
              "    <tr>\n",
              "      <th>Scumbag Continental Philosopher</th>\n",
              "      <td>74.000000</td>\n",
              "    </tr>\n",
              "    <tr>\n",
              "      <th>Conspiracy Keanu</th>\n",
              "      <td>73.188854</td>\n",
              "    </tr>\n",
              "    <tr>\n",
              "      <th>High Expectations Asian Father</th>\n",
              "      <td>72.870748</td>\n",
              "    </tr>\n",
              "    <tr>\n",
              "      <th>College Liberal</th>\n",
              "      <td>69.916667</td>\n",
              "    </tr>\n",
              "    <tr>\n",
              "      <th>Jay Wilson Diablo 3</th>\n",
              "      <td>65.500000</td>\n",
              "    </tr>\n",
              "    <tr>\n",
              "      <th>old lady</th>\n",
              "      <td>64.333333</td>\n",
              "    </tr>\n",
              "    <tr>\n",
              "      <th>First World Problems</th>\n",
              "      <td>63.719512</td>\n",
              "    </tr>\n",
              "    <tr>\n",
              "      <th>Sudden Clarity Clarence</th>\n",
              "      <td>60.333333</td>\n",
              "    </tr>\n",
              "    <tr>\n",
              "      <th>One Does Not Simply</th>\n",
              "      <td>56.438017</td>\n",
              "    </tr>\n",
              "    <tr>\n",
              "      <th>Trologirl</th>\n",
              "      <td>51.871795</td>\n",
              "    </tr>\n",
              "    <tr>\n",
              "      <th>Advice Peeta</th>\n",
              "      <td>51.000000</td>\n",
              "    </tr>\n",
              "    <tr>\n",
              "      <th>Philosoraptor</th>\n",
              "      <td>50.242563</td>\n",
              "    </tr>\n",
              "    <tr>\n",
              "      <th>Successful Black Man</th>\n",
              "      <td>50.233766</td>\n",
              "    </tr>\n",
              "    <tr>\n",
              "      <th>Professor Oak</th>\n",
              "      <td>49.942308</td>\n",
              "    </tr>\n",
              "    <tr>\n",
              "      <th>Obese American</th>\n",
              "      <td>49.900000</td>\n",
              "    </tr>\n",
              "  </tbody>\n",
              "</table>\n",
              "</div>"
            ],
            "text/plain": [
              "                                      Score\n",
              "Base Meme Name                             \n",
              "Scumbag Analytic Philosopher     159.400000\n",
              "Douchebag Roommate               134.437500\n",
              "Fallout 3                        117.142857\n",
              "Jonnen Neuvo                     111.000000\n",
              "PTSD Karate Kyle                  88.272727\n",
              "Stereotypical Corps Guy           85.714286\n",
              "Idiot Nerd Girl                   85.066667\n",
              "Condescending Wonka               84.750000\n",
              "Privilege Denying Feminist        82.882353\n",
              "Bill O'Reilly Proves God          74.615385\n",
              "Scumbag Continental Philosopher   74.000000\n",
              "Conspiracy Keanu                  73.188854\n",
              "High Expectations Asian Father    72.870748\n",
              "College Liberal                   69.916667\n",
              "Jay Wilson Diablo 3               65.500000\n",
              "old lady                          64.333333\n",
              "First World Problems              63.719512\n",
              "Sudden Clarity Clarence           60.333333\n",
              "One Does Not Simply               56.438017\n",
              "Trologirl                         51.871795\n",
              "Advice Peeta                      51.000000\n",
              "Philosoraptor                     50.242563\n",
              "Successful Black Man              50.233766\n",
              "Professor Oak                     49.942308\n",
              "Obese American                    49.900000"
            ]
          },
          "execution_count": 25,
          "metadata": {},
          "output_type": "execute_result"
        }
      ],
      "source": [
        "print(\"Average score by base memes, top 25 only: \")\n",
        "top_by_category = pd.DataFrame(meme_data.groupby(\"Base Meme Name\").mean()[\"Score\"].sort_values(ascending=False)[0:25])\n",
        "top_by_category"
      ]
    },
    {
      "cell_type": "markdown",
      "metadata": {
        "id": "5DCMw8ta_50t"
      },
      "source": [
        "## Highest Scoring Meme by Meme Catgory\n",
        "\n",
        "Run the cell below and dd the name of a _Base Meme Name_ in the box below to see the highest scoring meme in that category. Click the **Show** button to retrieve the top meme. But first, let's remind ourselves of the top 25 meme categories in the data set."
      ]
    },
    {
      "cell_type": "code",
      "execution_count": 26,
      "metadata": {
        "id": "Hrnv3bhXdoZg"
      },
      "outputs": [
        {
          "data": {
            "text/html": [
              "<div>\n",
              "<style scoped>\n",
              "    .dataframe tbody tr th:only-of-type {\n",
              "        vertical-align: middle;\n",
              "    }\n",
              "\n",
              "    .dataframe tbody tr th {\n",
              "        vertical-align: top;\n",
              "    }\n",
              "\n",
              "    .dataframe thead th {\n",
              "        text-align: right;\n",
              "    }\n",
              "</style>\n",
              "<table border=\"1\" class=\"dataframe\">\n",
              "  <thead>\n",
              "    <tr style=\"text-align: right;\">\n",
              "      <th></th>\n",
              "      <th>Meme ID</th>\n",
              "    </tr>\n",
              "    <tr>\n",
              "      <th>Base Meme Name</th>\n",
              "      <th></th>\n",
              "    </tr>\n",
              "  </thead>\n",
              "  <tbody>\n",
              "    <tr>\n",
              "      <th>Y U No</th>\n",
              "      <td>766</td>\n",
              "    </tr>\n",
              "    <tr>\n",
              "      <th>Futurama Fry</th>\n",
              "      <td>663</td>\n",
              "    </tr>\n",
              "    <tr>\n",
              "      <th>Insanity Wolf</th>\n",
              "      <td>612</td>\n",
              "    </tr>\n",
              "    <tr>\n",
              "      <th>Philosoraptor</th>\n",
              "      <td>531</td>\n",
              "    </tr>\n",
              "    <tr>\n",
              "      <th>The Most Interesting Man In The World</th>\n",
              "      <td>511</td>\n",
              "    </tr>\n",
              "    <tr>\n",
              "      <th>Success Kid</th>\n",
              "      <td>510</td>\n",
              "    </tr>\n",
              "    <tr>\n",
              "      <th>Foul Bachelor Frog</th>\n",
              "      <td>469</td>\n",
              "    </tr>\n",
              "    <tr>\n",
              "      <th>Socially Awkward Penguin</th>\n",
              "      <td>446</td>\n",
              "    </tr>\n",
              "    <tr>\n",
              "      <th>Advice Yoda Gives</th>\n",
              "      <td>420</td>\n",
              "    </tr>\n",
              "    <tr>\n",
              "      <th>Joseph Ducreux</th>\n",
              "      <td>415</td>\n",
              "    </tr>\n",
              "    <tr>\n",
              "      <th>Forever Alone</th>\n",
              "      <td>414</td>\n",
              "    </tr>\n",
              "    <tr>\n",
              "      <th>Slowpoke</th>\n",
              "      <td>400</td>\n",
              "    </tr>\n",
              "    <tr>\n",
              "      <th>Good Guy Greg</th>\n",
              "      <td>387</td>\n",
              "    </tr>\n",
              "    <tr>\n",
              "      <th>we got a badass over here</th>\n",
              "      <td>381</td>\n",
              "    </tr>\n",
              "    <tr>\n",
              "      <th>Courage Wolf</th>\n",
              "      <td>375</td>\n",
              "    </tr>\n",
              "    <tr>\n",
              "      <th>Butthurt Dweller</th>\n",
              "      <td>365</td>\n",
              "    </tr>\n",
              "    <tr>\n",
              "      <th>Yo Dawg</th>\n",
              "      <td>363</td>\n",
              "    </tr>\n",
              "    <tr>\n",
              "      <th>Willy Wonka</th>\n",
              "      <td>356</td>\n",
              "    </tr>\n",
              "    <tr>\n",
              "      <th>success baby</th>\n",
              "      <td>345</td>\n",
              "    </tr>\n",
              "    <tr>\n",
              "      <th>Chuck Norris</th>\n",
              "      <td>344</td>\n",
              "    </tr>\n",
              "    <tr>\n",
              "      <th>Conspiracy Keanu</th>\n",
              "      <td>340</td>\n",
              "    </tr>\n",
              "    <tr>\n",
              "      <th>Annoying Gamer Kid</th>\n",
              "      <td>332</td>\n",
              "    </tr>\n",
              "    <tr>\n",
              "      <th>Trollface</th>\n",
              "      <td>308</td>\n",
              "    </tr>\n",
              "    <tr>\n",
              "      <th>Me Gusta</th>\n",
              "      <td>299</td>\n",
              "    </tr>\n",
              "    <tr>\n",
              "      <th>All the things</th>\n",
              "      <td>297</td>\n",
              "    </tr>\n",
              "  </tbody>\n",
              "</table>\n",
              "</div>"
            ],
            "text/plain": [
              "                                       Meme ID\n",
              "Base Meme Name                                \n",
              "Y U No                                     766\n",
              "Futurama Fry                               663\n",
              "Insanity Wolf                              612\n",
              "Philosoraptor                              531\n",
              "The Most Interesting Man In The World      511\n",
              "Success Kid                                510\n",
              "Foul Bachelor Frog                         469\n",
              "Socially Awkward Penguin                   446\n",
              "Advice Yoda Gives                          420\n",
              "Joseph Ducreux                             415\n",
              "Forever Alone                              414\n",
              "Slowpoke                                   400\n",
              "Good Guy Greg                              387\n",
              "we got a badass over here                  381\n",
              "Courage Wolf                               375\n",
              "Butthurt Dweller                           365\n",
              "Yo Dawg                                    363\n",
              "Willy Wonka                                356\n",
              "success baby                               345\n",
              "Chuck Norris                               344\n",
              "Conspiracy Keanu                           340\n",
              "Annoying Gamer Kid                         332\n",
              "Trollface                                  308\n",
              "Me Gusta                                   299\n",
              "All the things                             297"
            ]
          },
          "execution_count": 26,
          "metadata": {},
          "output_type": "execute_result"
        }
      ],
      "source": [
        "top_25_cat"
      ]
    },
    {
      "cell_type": "code",
      "execution_count": 27,
      "metadata": {
        "id": "c85Eu4flBTNU"
      },
      "outputs": [
        {
          "name": "stdout",
          "output_type": "stream",
          "text": [
            "Copy/Paste a Meme Category from above to see the top scoring meme in that Category.\n"
          ]
        },
        {
          "data": {
            "application/vnd.jupyter.widget-view+json": {
              "model_id": "7f9fc4eb093d4973afa7c1c8e2a2716a",
              "version_major": 2,
              "version_minor": 0
            },
            "text/plain": [
              "interactive(children=(Text(value='Sudden Clarity Clarence', description='Category'), Button(description='Show'…"
            ]
          },
          "metadata": {},
          "output_type": "display_data"
        }
      ],
      "source": [
        "#Run this cell to load the previewer\n",
        "def show_top_by_category(category_choice):\n",
        "  top_cat_score = pd.DataFrame(meme_data[meme_data[\"Base Meme Name\"] == category_choice])\n",
        "  top_cat_score = top_cat_score.sort_values(by=\"Score\",ascending=False).head(1)\n",
        "  display(Image(url=top_cat_score['Archived URL'].values[0], format='jpg'))\n",
        "  display(top_cat_score)\n",
        " \n",
        "category_textbox = widgets.Text(\n",
        "    value = 'Sudden Clarity Clarence',\n",
        "    description = 'Category'\n",
        "\n",
        ")\n",
        "print(\"Copy/Paste a Meme Category from above to see the top scoring meme in that Category.\")\n",
        "show_top_cat_control = interact_manual.options(manual_name=\"Show\")\n",
        "show_top_cat_control(show_top_by_category,category_choice=category_textbox);"
      ]
    },
    {
      "cell_type": "markdown",
      "metadata": {
        "id": "irr39pmDQyIe"
      },
      "source": [
        "## Highest Scoring Meme in the dataset!\n",
        "\n",
        "\n",
        "Now that we've explored some different dimensions of the data let's take a look at the hightest scoring meme in the whole data set. Run the final code cell below to find out what it is."
      ]
    },
    {
      "cell_type": "code",
      "execution_count": 28,
      "metadata": {
        "id": "1JictNgsQBnX"
      },
      "outputs": [
        {
          "data": {
            "text/html": [
              "<img src=\"http://webarchive.loc.gov/all/0/http://cdn.meme.am/instances/250x250/21335866.jpg\"/>"
            ],
            "text/plain": [
              "<IPython.core.display.Image object>"
            ]
          },
          "metadata": {},
          "output_type": "display_data"
        },
        {
          "data": {
            "text/html": [
              "<div>\n",
              "<style scoped>\n",
              "    .dataframe tbody tr th:only-of-type {\n",
              "        vertical-align: middle;\n",
              "    }\n",
              "\n",
              "    .dataframe tbody tr th {\n",
              "        vertical-align: top;\n",
              "    }\n",
              "\n",
              "    .dataframe thead th {\n",
              "        text-align: right;\n",
              "    }\n",
              "</style>\n",
              "<table border=\"1\" class=\"dataframe\">\n",
              "  <thead>\n",
              "    <tr style=\"text-align: right;\">\n",
              "      <th></th>\n",
              "      <th>Meme ID</th>\n",
              "      <th>Archived URL</th>\n",
              "      <th>Base Meme Name</th>\n",
              "      <th>Meme Page URL</th>\n",
              "      <th>MD5 Hash</th>\n",
              "      <th>File Size (In Bytes)</th>\n",
              "      <th>Alternate Text</th>\n",
              "      <th>Display Name</th>\n",
              "      <th>Upper Text</th>\n",
              "      <th>Lower Text</th>\n",
              "      <th>Language</th>\n",
              "      <th>Score</th>\n",
              "    </tr>\n",
              "  </thead>\n",
              "  <tbody>\n",
              "    <tr>\n",
              "      <th>32193</th>\n",
              "      <td>21335866</td>\n",
              "      <td>http://webarchive.loc.gov/all/0/http://cdn.mem...</td>\n",
              "      <td>Trollface</td>\n",
              "      <td>http://memegenerator.net/instance/21335866</td>\n",
              "      <td>4979f0c5be91788f290afa4a4791be4c</td>\n",
              "      <td>45715.0</td>\n",
              "      <td>guys press ctrl+like and see what happens</td>\n",
              "      <td>Trollface</td>\n",
              "      <td>guys</td>\n",
              "      <td>press ctrl+like and see what happens</td>\n",
              "      <td>en</td>\n",
              "      <td>2970.0</td>\n",
              "    </tr>\n",
              "  </tbody>\n",
              "</table>\n",
              "</div>"
            ],
            "text/plain": [
              "        Meme ID                                       Archived URL  \\\n",
              "32193  21335866  http://webarchive.loc.gov/all/0/http://cdn.mem...   \n",
              "\n",
              "      Base Meme Name                               Meme Page URL  \\\n",
              "32193      Trollface  http://memegenerator.net/instance/21335866   \n",
              "\n",
              "                               MD5 Hash  File Size (In Bytes)  \\\n",
              "32193  4979f0c5be91788f290afa4a4791be4c               45715.0   \n",
              "\n",
              "                                  Alternate Text Display Name Upper Text  \\\n",
              "32193  guys press ctrl+like and see what happens    Trollface       guys   \n",
              "\n",
              "                                 Lower Text Language   Score  \n",
              "32193  press ctrl+like and see what happens       en  2970.0  "
            ]
          },
          "execution_count": 28,
          "metadata": {},
          "output_type": "execute_result"
        }
      ],
      "source": [
        "display(Image(url=meme_data[meme_data['Score'] == meme_data['Score'].max()]['Archived URL'].values[0], format='jpg'))\n",
        "meme_data[meme_data['Score'] == meme_data['Score'].max()]"
      ]
    }
  ],
  "metadata": {
    "colab": {
      "collapsed_sections": [],
      "name": "Meme Web Archive Exploration",
      "provenance": []
    },
    "kernelspec": {
      "display_name": "Python 3",
      "name": "python3"
    },
    "language_info": {
      "name": "python"
    },
    "widgets": {
      "application/vnd.jupyter.widget-state+json": {
        "0f2cc3918951426895ff5c67991a5120": {
          "model_module": "@jupyter-widgets/base",
          "model_module_version": "1.2.0",
          "model_name": "LayoutModel",
          "state": {
            "_model_module": "@jupyter-widgets/base",
            "_model_module_version": "1.2.0",
            "_model_name": "LayoutModel",
            "_view_count": null,
            "_view_module": "@jupyter-widgets/base",
            "_view_module_version": "1.2.0",
            "_view_name": "LayoutView",
            "align_content": null,
            "align_items": null,
            "align_self": null,
            "border": null,
            "bottom": null,
            "display": null,
            "flex": null,
            "flex_flow": null,
            "grid_area": null,
            "grid_auto_columns": null,
            "grid_auto_flow": null,
            "grid_auto_rows": null,
            "grid_column": null,
            "grid_gap": null,
            "grid_row": null,
            "grid_template_areas": null,
            "grid_template_columns": null,
            "grid_template_rows": null,
            "height": null,
            "justify_content": null,
            "justify_items": null,
            "left": null,
            "margin": null,
            "max_height": null,
            "max_width": null,
            "min_height": null,
            "min_width": null,
            "object_fit": null,
            "object_position": null,
            "order": null,
            "overflow": null,
            "overflow_x": null,
            "overflow_y": null,
            "padding": null,
            "right": null,
            "top": null,
            "visibility": null,
            "width": null
          }
        },
        "12f0c2f04d494cd69c63937e5a215188": {
          "model_module": "@jupyter-widgets/controls",
          "model_module_version": "1.5.0",
          "model_name": "TextModel",
          "state": {
            "_dom_classes": [],
            "_model_module": "@jupyter-widgets/controls",
            "_model_module_version": "1.5.0",
            "_model_name": "TextModel",
            "_view_count": null,
            "_view_module": "@jupyter-widgets/controls",
            "_view_module_version": "1.5.0",
            "_view_name": "TextView",
            "continuous_update": true,
            "description": "Language",
            "description_tooltip": null,
            "disabled": false,
            "layout": "IPY_MODEL_d2df1e3a25f5437d8b806622a66c11f9",
            "placeholder": "​",
            "style": "IPY_MODEL_1dc5b12a89d34e0bb1211bee6aa48e7d",
            "value": "ru"
          }
        },
        "15eb988e93b44ea79709aebbf5192e0a": {
          "model_module": "@jupyter-widgets/controls",
          "model_module_version": "1.5.0",
          "model_name": "ButtonStyleModel",
          "state": {
            "_model_module": "@jupyter-widgets/controls",
            "_model_module_version": "1.5.0",
            "_model_name": "ButtonStyleModel",
            "_view_count": null,
            "_view_module": "@jupyter-widgets/base",
            "_view_module_version": "1.2.0",
            "_view_name": "StyleView",
            "button_color": null,
            "font_weight": ""
          }
        },
        "1dc5b12a89d34e0bb1211bee6aa48e7d": {
          "model_module": "@jupyter-widgets/controls",
          "model_module_version": "1.5.0",
          "model_name": "DescriptionStyleModel",
          "state": {
            "_model_module": "@jupyter-widgets/controls",
            "_model_module_version": "1.5.0",
            "_model_name": "DescriptionStyleModel",
            "_view_count": null,
            "_view_module": "@jupyter-widgets/base",
            "_view_module_version": "1.2.0",
            "_view_name": "StyleView",
            "description_width": ""
          }
        },
        "2dbc3011e7b74c8f8f4ffffd9decb44d": {
          "model_module": "@jupyter-widgets/controls",
          "model_module_version": "1.5.0",
          "model_name": "ButtonStyleModel",
          "state": {
            "_model_module": "@jupyter-widgets/controls",
            "_model_module_version": "1.5.0",
            "_model_name": "ButtonStyleModel",
            "_view_count": null,
            "_view_module": "@jupyter-widgets/base",
            "_view_module_version": "1.2.0",
            "_view_name": "StyleView",
            "button_color": null,
            "font_weight": ""
          }
        },
        "30ff7de5239c492db9804faac07a29c0": {
          "model_module": "@jupyter-widgets/controls",
          "model_module_version": "1.5.0",
          "model_name": "ButtonModel",
          "state": {
            "_dom_classes": [],
            "_model_module": "@jupyter-widgets/controls",
            "_model_module_version": "1.5.0",
            "_model_name": "ButtonModel",
            "_view_count": null,
            "_view_module": "@jupyter-widgets/controls",
            "_view_module_version": "1.5.0",
            "_view_name": "ButtonView",
            "button_style": "",
            "description": "Show",
            "disabled": false,
            "icon": "",
            "layout": "IPY_MODEL_f4a2e01639f743a49fc8a01614bfab4e",
            "style": "IPY_MODEL_2dbc3011e7b74c8f8f4ffffd9decb44d",
            "tooltip": ""
          }
        },
        "315e149a52b44feb8fa06130b505b4b0": {
          "model_module": "@jupyter-widgets/base",
          "model_module_version": "1.2.0",
          "model_name": "LayoutModel",
          "state": {
            "_model_module": "@jupyter-widgets/base",
            "_model_module_version": "1.2.0",
            "_model_name": "LayoutModel",
            "_view_count": null,
            "_view_module": "@jupyter-widgets/base",
            "_view_module_version": "1.2.0",
            "_view_name": "LayoutView",
            "align_content": null,
            "align_items": null,
            "align_self": null,
            "border": null,
            "bottom": null,
            "display": null,
            "flex": null,
            "flex_flow": null,
            "grid_area": null,
            "grid_auto_columns": null,
            "grid_auto_flow": null,
            "grid_auto_rows": null,
            "grid_column": null,
            "grid_gap": null,
            "grid_row": null,
            "grid_template_areas": null,
            "grid_template_columns": null,
            "grid_template_rows": null,
            "height": null,
            "justify_content": null,
            "justify_items": null,
            "left": null,
            "margin": null,
            "max_height": null,
            "max_width": null,
            "min_height": null,
            "min_width": null,
            "object_fit": null,
            "object_position": null,
            "order": null,
            "overflow": null,
            "overflow_x": null,
            "overflow_y": null,
            "padding": null,
            "right": null,
            "top": null,
            "visibility": null,
            "width": null
          }
        },
        "3df817385be94ad48e494596f5912d24": {
          "model_module": "@jupyter-widgets/base",
          "model_module_version": "1.2.0",
          "model_name": "LayoutModel",
          "state": {
            "_model_module": "@jupyter-widgets/base",
            "_model_module_version": "1.2.0",
            "_model_name": "LayoutModel",
            "_view_count": null,
            "_view_module": "@jupyter-widgets/base",
            "_view_module_version": "1.2.0",
            "_view_name": "LayoutView",
            "align_content": null,
            "align_items": null,
            "align_self": null,
            "border": null,
            "bottom": null,
            "display": null,
            "flex": null,
            "flex_flow": null,
            "grid_area": null,
            "grid_auto_columns": null,
            "grid_auto_flow": null,
            "grid_auto_rows": null,
            "grid_column": null,
            "grid_gap": null,
            "grid_row": null,
            "grid_template_areas": null,
            "grid_template_columns": null,
            "grid_template_rows": null,
            "height": null,
            "justify_content": null,
            "justify_items": null,
            "left": null,
            "margin": null,
            "max_height": null,
            "max_width": null,
            "min_height": null,
            "min_width": null,
            "object_fit": null,
            "object_position": null,
            "order": null,
            "overflow": null,
            "overflow_x": null,
            "overflow_y": null,
            "padding": null,
            "right": null,
            "top": null,
            "visibility": null,
            "width": null
          }
        },
        "3e9fe2468e1842ecaccb352b2286a252": {
          "model_module": "@jupyter-widgets/controls",
          "model_module_version": "1.5.0",
          "model_name": "ButtonModel",
          "state": {
            "_dom_classes": [],
            "_model_module": "@jupyter-widgets/controls",
            "_model_module_version": "1.5.0",
            "_model_name": "ButtonModel",
            "_view_count": null,
            "_view_module": "@jupyter-widgets/controls",
            "_view_module_version": "1.5.0",
            "_view_name": "ButtonView",
            "button_style": "",
            "description": "Show",
            "disabled": false,
            "icon": "",
            "layout": "IPY_MODEL_b33b81e6008b4e6f9d75c24372916a7c",
            "style": "IPY_MODEL_15eb988e93b44ea79709aebbf5192e0a",
            "tooltip": ""
          }
        },
        "5b4a3078b39c4fb88e6de8ca5b771ded": {
          "model_module": "@jupyter-widgets/base",
          "model_module_version": "1.2.0",
          "model_name": "LayoutModel",
          "state": {
            "_model_module": "@jupyter-widgets/base",
            "_model_module_version": "1.2.0",
            "_model_name": "LayoutModel",
            "_view_count": null,
            "_view_module": "@jupyter-widgets/base",
            "_view_module_version": "1.2.0",
            "_view_name": "LayoutView",
            "align_content": null,
            "align_items": null,
            "align_self": null,
            "border": null,
            "bottom": null,
            "display": null,
            "flex": null,
            "flex_flow": null,
            "grid_area": null,
            "grid_auto_columns": null,
            "grid_auto_flow": null,
            "grid_auto_rows": null,
            "grid_column": null,
            "grid_gap": null,
            "grid_row": null,
            "grid_template_areas": null,
            "grid_template_columns": null,
            "grid_template_rows": null,
            "height": null,
            "justify_content": null,
            "justify_items": null,
            "left": null,
            "margin": null,
            "max_height": null,
            "max_width": null,
            "min_height": null,
            "min_width": null,
            "object_fit": null,
            "object_position": null,
            "order": null,
            "overflow": null,
            "overflow_x": null,
            "overflow_y": null,
            "padding": null,
            "right": null,
            "top": null,
            "visibility": null,
            "width": null
          }
        },
        "76c7edb8535147f491084bafe963e475": {
          "model_module": "@jupyter-widgets/output",
          "model_module_version": "1.0.0",
          "model_name": "OutputModel",
          "state": {
            "_dom_classes": [],
            "_model_module": "@jupyter-widgets/output",
            "_model_module_version": "1.0.0",
            "_model_name": "OutputModel",
            "_view_count": null,
            "_view_module": "@jupyter-widgets/output",
            "_view_module_version": "1.0.0",
            "_view_name": "OutputView",
            "layout": "IPY_MODEL_3df817385be94ad48e494596f5912d24",
            "msg_id": "",
            "outputs": [
              {
                "data": {
                  "text/html": "<img src=\"http://webarchive.loc.gov/all/0/http://cdn.meme.am/instances/250x250/10331864.jpg\"/>",
                  "text/plain": "<IPython.core.display.Image object>"
                },
                "metadata": {},
                "output_type": "display_data"
              },
              {
                "data": {
                  "text/html": "\n  <div id=\"df-804d2798-a360-49ba-a9ba-a1236156a818\">\n    <div class=\"colab-df-container\">\n      <div>\n<style scoped>\n    .dataframe tbody tr th:only-of-type {\n        vertical-align: middle;\n    }\n\n    .dataframe tbody tr th {\n        vertical-align: top;\n    }\n\n    .dataframe thead th {\n        text-align: right;\n    }\n</style>\n<table border=\"1\" class=\"dataframe\">\n  <thead>\n    <tr style=\"text-align: right;\">\n      <th></th>\n      <th>Meme ID</th>\n      <th>Archived URL</th>\n      <th>Base Meme Name</th>\n      <th>Meme Page URL</th>\n      <th>MD5 Hash</th>\n      <th>File Size (In Bytes)</th>\n      <th>Alternate Text</th>\n      <th>Display Name</th>\n      <th>Upper Text</th>\n      <th>Lower Text</th>\n      <th>Language</th>\n      <th>Score</th>\n    </tr>\n  </thead>\n  <tbody>\n    <tr>\n      <th>2841</th>\n      <td>10331864</td>\n      <td>http://webarchive.loc.gov/all/0/http://cdn.meme.am/instances/250x250/10331864.jpg</td>\n      <td>Historian</td>\n      <td>http://memegenerator.net/instance/10331864</td>\n      <td>cda663b52c89efda800cc07dbd2a0d9d</td>\n      <td>44333.0</td>\n      <td>Тебе тоже жаль византию?</td>\n      <td>Historian</td>\n      <td>Тебе тоже</td>\n      <td>жаль византию?</td>\n      <td>ru</td>\n      <td>200.0</td>\n    </tr>\n  </tbody>\n</table>\n</div>\n      <button class=\"colab-df-convert\" onclick=\"convertToInteractive('df-804d2798-a360-49ba-a9ba-a1236156a818')\"\n              title=\"Convert this dataframe to an interactive table.\"\n              style=\"display:none;\">\n        \n  <svg xmlns=\"http://www.w3.org/2000/svg\" height=\"24px\"viewBox=\"0 0 24 24\"\n       width=\"24px\">\n    <path d=\"M0 0h24v24H0V0z\" fill=\"none\"/>\n    <path d=\"M18.56 5.44l.94 2.06.94-2.06 2.06-.94-2.06-.94-.94-2.06-.94 2.06-2.06.94zm-11 1L8.5 8.5l.94-2.06 2.06-.94-2.06-.94L8.5 2.5l-.94 2.06-2.06.94zm10 10l.94 2.06.94-2.06 2.06-.94-2.06-.94-.94-2.06-.94 2.06-2.06.94z\"/><path d=\"M17.41 7.96l-1.37-1.37c-.4-.4-.92-.59-1.43-.59-.52 0-1.04.2-1.43.59L10.3 9.45l-7.72 7.72c-.78.78-.78 2.05 0 2.83L4 21.41c.39.39.9.59 1.41.59.51 0 1.02-.2 1.41-.59l7.78-7.78 2.81-2.81c.8-.78.8-2.07 0-2.86zM5.41 20L4 18.59l7.72-7.72 1.47 1.35L5.41 20z\"/>\n  </svg>\n      </button>\n      \n  <style>\n    .colab-df-container {\n      display:flex;\n      flex-wrap:wrap;\n      gap: 12px;\n    }\n\n    .colab-df-convert {\n      background-color: #E8F0FE;\n      border: none;\n      border-radius: 50%;\n      cursor: pointer;\n      display: none;\n      fill: #1967D2;\n      height: 32px;\n      padding: 0 0 0 0;\n      width: 32px;\n    }\n\n    .colab-df-convert:hover {\n      background-color: #E2EBFA;\n      box-shadow: 0px 1px 2px rgba(60, 64, 67, 0.3), 0px 1px 3px 1px rgba(60, 64, 67, 0.15);\n      fill: #174EA6;\n    }\n\n    [theme=dark] .colab-df-convert {\n      background-color: #3B4455;\n      fill: #D2E3FC;\n    }\n\n    [theme=dark] .colab-df-convert:hover {\n      background-color: #434B5C;\n      box-shadow: 0px 1px 3px 1px rgba(0, 0, 0, 0.15);\n      filter: drop-shadow(0px 1px 2px rgba(0, 0, 0, 0.3));\n      fill: #FFFFFF;\n    }\n  </style>\n\n      <script>\n        const buttonEl =\n          document.querySelector('#df-804d2798-a360-49ba-a9ba-a1236156a818 button.colab-df-convert');\n        buttonEl.style.display =\n          google.colab.kernel.accessAllowed ? 'block' : 'none';\n\n        async function convertToInteractive(key) {\n          const element = document.querySelector('#df-804d2798-a360-49ba-a9ba-a1236156a818');\n          const dataTable =\n            await google.colab.kernel.invokeFunction('convertToInteractive',\n                                                     [key], {});\n          if (!dataTable) return;\n\n          const docLinkHtml = 'Like what you see? Visit the ' +\n            '<a target=\"_blank\" href=https://colab.research.google.com/notebooks/data_table.ipynb>data table notebook</a>'\n            + ' to learn more about interactive tables.';\n          element.innerHTML = '';\n          dataTable['output_type'] = 'display_data';\n          await google.colab.output.renderOutput(dataTable, element);\n          const docLink = document.createElement('div');\n          docLink.innerHTML = docLinkHtml;\n          element.appendChild(docLink);\n        }\n      </script>\n    </div>\n  </div>\n  ",
                  "text/plain": "       Meme ID  ...  Score\n2841  10331864  ...  200.0\n\n[1 rows x 12 columns]"
                },
                "metadata": {},
                "output_type": "display_data"
              }
            ]
          }
        },
        "8023e75642904cc3b3da51562d66e863": {
          "model_module": "@jupyter-widgets/controls",
          "model_module_version": "1.5.0",
          "model_name": "TextModel",
          "state": {
            "_dom_classes": [],
            "_model_module": "@jupyter-widgets/controls",
            "_model_module_version": "1.5.0",
            "_model_name": "TextModel",
            "_view_count": null,
            "_view_module": "@jupyter-widgets/controls",
            "_view_module_version": "1.5.0",
            "_view_name": "TextView",
            "continuous_update": true,
            "description": "Category",
            "description_tooltip": null,
            "disabled": false,
            "layout": "IPY_MODEL_5b4a3078b39c4fb88e6de8ca5b771ded",
            "placeholder": "​",
            "style": "IPY_MODEL_c83432e239584861a38465cf9807cf5d",
            "value": "All the things"
          }
        },
        "a58ad0705b6d415780364f72a261be67": {
          "model_module": "@jupyter-widgets/controls",
          "model_module_version": "1.5.0",
          "model_name": "VBoxModel",
          "state": {
            "_dom_classes": [
              "widget-interact"
            ],
            "_model_module": "@jupyter-widgets/controls",
            "_model_module_version": "1.5.0",
            "_model_name": "VBoxModel",
            "_view_count": null,
            "_view_module": "@jupyter-widgets/controls",
            "_view_module_version": "1.5.0",
            "_view_name": "VBoxView",
            "box_style": "",
            "children": [
              "IPY_MODEL_12f0c2f04d494cd69c63937e5a215188",
              "IPY_MODEL_3e9fe2468e1842ecaccb352b2286a252",
              "IPY_MODEL_76c7edb8535147f491084bafe963e475"
            ],
            "layout": "IPY_MODEL_315e149a52b44feb8fa06130b505b4b0"
          }
        },
        "b33b81e6008b4e6f9d75c24372916a7c": {
          "model_module": "@jupyter-widgets/base",
          "model_module_version": "1.2.0",
          "model_name": "LayoutModel",
          "state": {
            "_model_module": "@jupyter-widgets/base",
            "_model_module_version": "1.2.0",
            "_model_name": "LayoutModel",
            "_view_count": null,
            "_view_module": "@jupyter-widgets/base",
            "_view_module_version": "1.2.0",
            "_view_name": "LayoutView",
            "align_content": null,
            "align_items": null,
            "align_self": null,
            "border": null,
            "bottom": null,
            "display": null,
            "flex": null,
            "flex_flow": null,
            "grid_area": null,
            "grid_auto_columns": null,
            "grid_auto_flow": null,
            "grid_auto_rows": null,
            "grid_column": null,
            "grid_gap": null,
            "grid_row": null,
            "grid_template_areas": null,
            "grid_template_columns": null,
            "grid_template_rows": null,
            "height": null,
            "justify_content": null,
            "justify_items": null,
            "left": null,
            "margin": null,
            "max_height": null,
            "max_width": null,
            "min_height": null,
            "min_width": null,
            "object_fit": null,
            "object_position": null,
            "order": null,
            "overflow": null,
            "overflow_x": null,
            "overflow_y": null,
            "padding": null,
            "right": null,
            "top": null,
            "visibility": null,
            "width": null
          }
        },
        "c2d11ef2cd4349b48db2874499be1ac2": {
          "model_module": "@jupyter-widgets/base",
          "model_module_version": "1.2.0",
          "model_name": "LayoutModel",
          "state": {
            "_model_module": "@jupyter-widgets/base",
            "_model_module_version": "1.2.0",
            "_model_name": "LayoutModel",
            "_view_count": null,
            "_view_module": "@jupyter-widgets/base",
            "_view_module_version": "1.2.0",
            "_view_name": "LayoutView",
            "align_content": null,
            "align_items": null,
            "align_self": null,
            "border": null,
            "bottom": null,
            "display": null,
            "flex": null,
            "flex_flow": null,
            "grid_area": null,
            "grid_auto_columns": null,
            "grid_auto_flow": null,
            "grid_auto_rows": null,
            "grid_column": null,
            "grid_gap": null,
            "grid_row": null,
            "grid_template_areas": null,
            "grid_template_columns": null,
            "grid_template_rows": null,
            "height": null,
            "justify_content": null,
            "justify_items": null,
            "left": null,
            "margin": null,
            "max_height": null,
            "max_width": null,
            "min_height": null,
            "min_width": null,
            "object_fit": null,
            "object_position": null,
            "order": null,
            "overflow": null,
            "overflow_x": null,
            "overflow_y": null,
            "padding": null,
            "right": null,
            "top": null,
            "visibility": null,
            "width": null
          }
        },
        "c83432e239584861a38465cf9807cf5d": {
          "model_module": "@jupyter-widgets/controls",
          "model_module_version": "1.5.0",
          "model_name": "DescriptionStyleModel",
          "state": {
            "_model_module": "@jupyter-widgets/controls",
            "_model_module_version": "1.5.0",
            "_model_name": "DescriptionStyleModel",
            "_view_count": null,
            "_view_module": "@jupyter-widgets/base",
            "_view_module_version": "1.2.0",
            "_view_name": "StyleView",
            "description_width": ""
          }
        },
        "d2df1e3a25f5437d8b806622a66c11f9": {
          "model_module": "@jupyter-widgets/base",
          "model_module_version": "1.2.0",
          "model_name": "LayoutModel",
          "state": {
            "_model_module": "@jupyter-widgets/base",
            "_model_module_version": "1.2.0",
            "_model_name": "LayoutModel",
            "_view_count": null,
            "_view_module": "@jupyter-widgets/base",
            "_view_module_version": "1.2.0",
            "_view_name": "LayoutView",
            "align_content": null,
            "align_items": null,
            "align_self": null,
            "border": null,
            "bottom": null,
            "display": null,
            "flex": null,
            "flex_flow": null,
            "grid_area": null,
            "grid_auto_columns": null,
            "grid_auto_flow": null,
            "grid_auto_rows": null,
            "grid_column": null,
            "grid_gap": null,
            "grid_row": null,
            "grid_template_areas": null,
            "grid_template_columns": null,
            "grid_template_rows": null,
            "height": null,
            "justify_content": null,
            "justify_items": null,
            "left": null,
            "margin": null,
            "max_height": null,
            "max_width": null,
            "min_height": null,
            "min_width": null,
            "object_fit": null,
            "object_position": null,
            "order": null,
            "overflow": null,
            "overflow_x": null,
            "overflow_y": null,
            "padding": null,
            "right": null,
            "top": null,
            "visibility": null,
            "width": null
          }
        },
        "d30598a399d042f7ac88c7718f8baa39": {
          "model_module": "@jupyter-widgets/controls",
          "model_module_version": "1.5.0",
          "model_name": "VBoxModel",
          "state": {
            "_dom_classes": [
              "widget-interact"
            ],
            "_model_module": "@jupyter-widgets/controls",
            "_model_module_version": "1.5.0",
            "_model_name": "VBoxModel",
            "_view_count": null,
            "_view_module": "@jupyter-widgets/controls",
            "_view_module_version": "1.5.0",
            "_view_name": "VBoxView",
            "box_style": "",
            "children": [
              "IPY_MODEL_8023e75642904cc3b3da51562d66e863",
              "IPY_MODEL_30ff7de5239c492db9804faac07a29c0",
              "IPY_MODEL_d65d3b30820d4b22ba8dedb907a2fbe7"
            ],
            "layout": "IPY_MODEL_c2d11ef2cd4349b48db2874499be1ac2"
          }
        },
        "d65d3b30820d4b22ba8dedb907a2fbe7": {
          "model_module": "@jupyter-widgets/output",
          "model_module_version": "1.0.0",
          "model_name": "OutputModel",
          "state": {
            "_dom_classes": [],
            "_model_module": "@jupyter-widgets/output",
            "_model_module_version": "1.0.0",
            "_model_name": "OutputModel",
            "_view_count": null,
            "_view_module": "@jupyter-widgets/output",
            "_view_module_version": "1.0.0",
            "_view_name": "OutputView",
            "layout": "IPY_MODEL_0f2cc3918951426895ff5c67991a5120",
            "msg_id": "",
            "outputs": [
              {
                "name": "stdout",
                "output_type": "stream",
                "text": [
                  "View on Memegenerator: \t http://memegenerator.net/instance/20578487\n",
                  "View on Archive: \t\t\t http://webarchive.loc.gov/all/0/http://cdn.meme.am/instances/250x250/20578487.jpg\n"
                ]
              },
              {
                "data": {
                  "text/html": "<img src=\"http://webarchive.loc.gov/all/0/http://cdn.meme.am/instances/250x250/20578487.jpg\"/>",
                  "text/plain": "<IPython.core.display.Image object>"
                },
                "metadata": {},
                "output_type": "display_data"
              },
              {
                "data": {
                  "text/html": "\n  <div id=\"df-c3e3a106-ab9b-4fa2-8fae-29bf5fc9b78b\">\n    <div class=\"colab-df-container\">\n      <div>\n<style scoped>\n    .dataframe tbody tr th:only-of-type {\n        vertical-align: middle;\n    }\n\n    .dataframe tbody tr th {\n        vertical-align: top;\n    }\n\n    .dataframe thead th {\n        text-align: right;\n    }\n</style>\n<table border=\"1\" class=\"dataframe\">\n  <thead>\n    <tr style=\"text-align: right;\">\n      <th></th>\n      <th>Meme ID</th>\n      <th>Archived URL</th>\n      <th>Base Meme Name</th>\n      <th>Meme Page URL</th>\n      <th>MD5 Hash</th>\n      <th>File Size (In Bytes)</th>\n      <th>Alternate Text</th>\n      <th>Display Name</th>\n      <th>Upper Text</th>\n      <th>Lower Text</th>\n    </tr>\n  </thead>\n  <tbody>\n    <tr>\n      <th>30773</th>\n      <td>20578487</td>\n      <td>http://webarchive.loc.gov/all/0/http://cdn.mem...</td>\n      <td>All the things</td>\n      <td>http://memegenerator.net/instance/20578487</td>\n      <td>bc494de6e4d4cc3d2166f5a102116329</td>\n      <td>42670</td>\n      <td>avoid all the work</td>\n      <td>All the things</td>\n      <td>avoid</td>\n      <td>all the work</td>\n    </tr>\n  </tbody>\n</table>\n</div>\n      <button class=\"colab-df-convert\" onclick=\"convertToInteractive('df-c3e3a106-ab9b-4fa2-8fae-29bf5fc9b78b')\"\n              title=\"Convert this dataframe to an interactive table.\"\n              style=\"display:none;\">\n        \n  <svg xmlns=\"http://www.w3.org/2000/svg\" height=\"24px\"viewBox=\"0 0 24 24\"\n       width=\"24px\">\n    <path d=\"M0 0h24v24H0V0z\" fill=\"none\"/>\n    <path d=\"M18.56 5.44l.94 2.06.94-2.06 2.06-.94-2.06-.94-.94-2.06-.94 2.06-2.06.94zm-11 1L8.5 8.5l.94-2.06 2.06-.94-2.06-.94L8.5 2.5l-.94 2.06-2.06.94zm10 10l.94 2.06.94-2.06 2.06-.94-2.06-.94-.94-2.06-.94 2.06-2.06.94z\"/><path d=\"M17.41 7.96l-1.37-1.37c-.4-.4-.92-.59-1.43-.59-.52 0-1.04.2-1.43.59L10.3 9.45l-7.72 7.72c-.78.78-.78 2.05 0 2.83L4 21.41c.39.39.9.59 1.41.59.51 0 1.02-.2 1.41-.59l7.78-7.78 2.81-2.81c.8-.78.8-2.07 0-2.86zM5.41 20L4 18.59l7.72-7.72 1.47 1.35L5.41 20z\"/>\n  </svg>\n      </button>\n      \n  <style>\n    .colab-df-container {\n      display:flex;\n      flex-wrap:wrap;\n      gap: 12px;\n    }\n\n    .colab-df-convert {\n      background-color: #E8F0FE;\n      border: none;\n      border-radius: 50%;\n      cursor: pointer;\n      display: none;\n      fill: #1967D2;\n      height: 32px;\n      padding: 0 0 0 0;\n      width: 32px;\n    }\n\n    .colab-df-convert:hover {\n      background-color: #E2EBFA;\n      box-shadow: 0px 1px 2px rgba(60, 64, 67, 0.3), 0px 1px 3px 1px rgba(60, 64, 67, 0.15);\n      fill: #174EA6;\n    }\n\n    [theme=dark] .colab-df-convert {\n      background-color: #3B4455;\n      fill: #D2E3FC;\n    }\n\n    [theme=dark] .colab-df-convert:hover {\n      background-color: #434B5C;\n      box-shadow: 0px 1px 3px 1px rgba(0, 0, 0, 0.15);\n      filter: drop-shadow(0px 1px 2px rgba(0, 0, 0, 0.3));\n      fill: #FFFFFF;\n    }\n  </style>\n\n      <script>\n        const buttonEl =\n          document.querySelector('#df-c3e3a106-ab9b-4fa2-8fae-29bf5fc9b78b button.colab-df-convert');\n        buttonEl.style.display =\n          google.colab.kernel.accessAllowed ? 'block' : 'none';\n\n        async function convertToInteractive(key) {\n          const element = document.querySelector('#df-c3e3a106-ab9b-4fa2-8fae-29bf5fc9b78b');\n          const dataTable =\n            await google.colab.kernel.invokeFunction('convertToInteractive',\n                                                     [key], {});\n          if (!dataTable) return;\n\n          const docLinkHtml = 'Like what you see? Visit the ' +\n            '<a target=\"_blank\" href=https://colab.research.google.com/notebooks/data_table.ipynb>data table notebook</a>'\n            + ' to learn more about interactive tables.';\n          element.innerHTML = '';\n          dataTable['output_type'] = 'display_data';\n          await google.colab.output.renderOutput(dataTable, element);\n          const docLink = document.createElement('div');\n          docLink.innerHTML = docLinkHtml;\n          element.appendChild(docLink);\n        }\n      </script>\n    </div>\n  </div>\n  ",
                  "text/plain": "        Meme ID  ...    Lower Text\n30773  20578487  ...  all the work\n\n[1 rows x 10 columns]"
                },
                "metadata": {},
                "output_type": "display_data"
              }
            ]
          }
        },
        "f4a2e01639f743a49fc8a01614bfab4e": {
          "model_module": "@jupyter-widgets/base",
          "model_module_version": "1.2.0",
          "model_name": "LayoutModel",
          "state": {
            "_model_module": "@jupyter-widgets/base",
            "_model_module_version": "1.2.0",
            "_model_name": "LayoutModel",
            "_view_count": null,
            "_view_module": "@jupyter-widgets/base",
            "_view_module_version": "1.2.0",
            "_view_name": "LayoutView",
            "align_content": null,
            "align_items": null,
            "align_self": null,
            "border": null,
            "bottom": null,
            "display": null,
            "flex": null,
            "flex_flow": null,
            "grid_area": null,
            "grid_auto_columns": null,
            "grid_auto_flow": null,
            "grid_auto_rows": null,
            "grid_column": null,
            "grid_gap": null,
            "grid_row": null,
            "grid_template_areas": null,
            "grid_template_columns": null,
            "grid_template_rows": null,
            "height": null,
            "justify_content": null,
            "justify_items": null,
            "left": null,
            "margin": null,
            "max_height": null,
            "max_width": null,
            "min_height": null,
            "min_width": null,
            "object_fit": null,
            "object_position": null,
            "order": null,
            "overflow": null,
            "overflow_x": null,
            "overflow_y": null,
            "padding": null,
            "right": null,
            "top": null,
            "visibility": null,
            "width": null
          }
        }
      }
    }
  },
  "nbformat": 4,
  "nbformat_minor": 0
}
